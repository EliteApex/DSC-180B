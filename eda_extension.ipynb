{
 "cells": [
  {
   "cell_type": "markdown",
   "metadata": {},
   "source": [
    "This notebook was an intermediate notebook that was used to preview and explore the potential feature datasets."
   ]
  },
  {
   "cell_type": "code",
   "execution_count": 1,
   "metadata": {},
   "outputs": [],
   "source": [
    "import pandas as pd\n",
    "import numpy as np\n",
    "import matplotlib.pyplot as plt\n",
    "import seaborn as sns"
   ]
  },
  {
   "cell_type": "code",
   "execution_count": 4,
   "metadata": {},
   "outputs": [],
   "source": [
    "protein_info = pd.read_csv('../9606.protein.info.v12.0.txt', sep='\\t')"
   ]
  },
  {
   "cell_type": "code",
   "execution_count": 5,
   "metadata": {},
   "outputs": [
    {
     "data": {
      "text/html": [
       "<div>\n",
       "<style scoped>\n",
       "    .dataframe tbody tr th:only-of-type {\n",
       "        vertical-align: middle;\n",
       "    }\n",
       "\n",
       "    .dataframe tbody tr th {\n",
       "        vertical-align: top;\n",
       "    }\n",
       "\n",
       "    .dataframe thead th {\n",
       "        text-align: right;\n",
       "    }\n",
       "</style>\n",
       "<table border=\"1\" class=\"dataframe\">\n",
       "  <thead>\n",
       "    <tr style=\"text-align: right;\">\n",
       "      <th></th>\n",
       "      <th>#string_protein_id</th>\n",
       "      <th>preferred_name</th>\n",
       "      <th>protein_size</th>\n",
       "      <th>annotation</th>\n",
       "    </tr>\n",
       "  </thead>\n",
       "  <tbody>\n",
       "    <tr>\n",
       "      <th>0</th>\n",
       "      <td>9606.ENSP00000000233</td>\n",
       "      <td>ARF5</td>\n",
       "      <td>180</td>\n",
       "      <td>ADP-ribosylation factor 5; GTP-binding protein...</td>\n",
       "    </tr>\n",
       "    <tr>\n",
       "      <th>1</th>\n",
       "      <td>9606.ENSP00000000412</td>\n",
       "      <td>M6PR</td>\n",
       "      <td>277</td>\n",
       "      <td>Cation-dependent mannose-6-phosphate receptor;...</td>\n",
       "    </tr>\n",
       "    <tr>\n",
       "      <th>2</th>\n",
       "      <td>9606.ENSP00000001008</td>\n",
       "      <td>FKBP4</td>\n",
       "      <td>459</td>\n",
       "      <td>Peptidyl-prolyl cis-trans isomerase FKBP4, N-t...</td>\n",
       "    </tr>\n",
       "    <tr>\n",
       "      <th>3</th>\n",
       "      <td>9606.ENSP00000001146</td>\n",
       "      <td>CYP26B1</td>\n",
       "      <td>512</td>\n",
       "      <td>Cytochrome P450 26B1; Involved in the metaboli...</td>\n",
       "    </tr>\n",
       "    <tr>\n",
       "      <th>4</th>\n",
       "      <td>9606.ENSP00000002125</td>\n",
       "      <td>NDUFAF7</td>\n",
       "      <td>441</td>\n",
       "      <td>Protein arginine methyltransferase NDUFAF7, mi...</td>\n",
       "    </tr>\n",
       "    <tr>\n",
       "      <th>...</th>\n",
       "      <td>...</td>\n",
       "      <td>...</td>\n",
       "      <td>...</td>\n",
       "      <td>...</td>\n",
       "    </tr>\n",
       "    <tr>\n",
       "      <th>19694</th>\n",
       "      <td>9606.ENSP00000501254</td>\n",
       "      <td>ALDH3B2</td>\n",
       "      <td>385</td>\n",
       "      <td>Aldehyde dehydrogenase family 3 member B2; Oxi...</td>\n",
       "    </tr>\n",
       "    <tr>\n",
       "      <th>19695</th>\n",
       "      <td>9606.ENSP00000501259</td>\n",
       "      <td>FAM163B</td>\n",
       "      <td>166</td>\n",
       "      <td>Protein FAM163B; Family with sequence similari...</td>\n",
       "    </tr>\n",
       "    <tr>\n",
       "      <th>19696</th>\n",
       "      <td>9606.ENSP00000501265</td>\n",
       "      <td>NWD1</td>\n",
       "      <td>1432</td>\n",
       "      <td>NACHT domain- and WD repeat-containing protein...</td>\n",
       "    </tr>\n",
       "    <tr>\n",
       "      <th>19697</th>\n",
       "      <td>9606.ENSP00000501277</td>\n",
       "      <td>LDB1</td>\n",
       "      <td>411</td>\n",
       "      <td>LIM domain-binding protein 1; Binds to the LIM...</td>\n",
       "    </tr>\n",
       "    <tr>\n",
       "      <th>19698</th>\n",
       "      <td>9606.ENSP00000501317</td>\n",
       "      <td>RFX7</td>\n",
       "      <td>1460</td>\n",
       "      <td>DNA-binding protein RFX7; Regulatory factor X7...</td>\n",
       "    </tr>\n",
       "  </tbody>\n",
       "</table>\n",
       "<p>19699 rows × 4 columns</p>\n",
       "</div>"
      ],
      "text/plain": [
       "         #string_protein_id preferred_name  protein_size  \\\n",
       "0      9606.ENSP00000000233           ARF5           180   \n",
       "1      9606.ENSP00000000412           M6PR           277   \n",
       "2      9606.ENSP00000001008          FKBP4           459   \n",
       "3      9606.ENSP00000001146        CYP26B1           512   \n",
       "4      9606.ENSP00000002125        NDUFAF7           441   \n",
       "...                     ...            ...           ...   \n",
       "19694  9606.ENSP00000501254        ALDH3B2           385   \n",
       "19695  9606.ENSP00000501259        FAM163B           166   \n",
       "19696  9606.ENSP00000501265           NWD1          1432   \n",
       "19697  9606.ENSP00000501277           LDB1           411   \n",
       "19698  9606.ENSP00000501317           RFX7          1460   \n",
       "\n",
       "                                              annotation  \n",
       "0      ADP-ribosylation factor 5; GTP-binding protein...  \n",
       "1      Cation-dependent mannose-6-phosphate receptor;...  \n",
       "2      Peptidyl-prolyl cis-trans isomerase FKBP4, N-t...  \n",
       "3      Cytochrome P450 26B1; Involved in the metaboli...  \n",
       "4      Protein arginine methyltransferase NDUFAF7, mi...  \n",
       "...                                                  ...  \n",
       "19694  Aldehyde dehydrogenase family 3 member B2; Oxi...  \n",
       "19695  Protein FAM163B; Family with sequence similari...  \n",
       "19696  NACHT domain- and WD repeat-containing protein...  \n",
       "19697  LIM domain-binding protein 1; Binds to the LIM...  \n",
       "19698  DNA-binding protein RFX7; Regulatory factor X7...  \n",
       "\n",
       "[19699 rows x 4 columns]"
      ]
     },
     "execution_count": 5,
     "metadata": {},
     "output_type": "execute_result"
    }
   ],
   "source": [
    "protein_info"
   ]
  },
  {
   "cell_type": "code",
   "execution_count": 7,
   "metadata": {},
   "outputs": [],
   "source": [
    "protein_alias = pd.read_csv('../9606.protein.aliases.v12.0.txt', sep='\\t')"
   ]
  },
  {
   "cell_type": "code",
   "execution_count": 8,
   "metadata": {},
   "outputs": [],
   "source": [
    "protein_enrichment = pd.read_csv('../9606.protein.enrichment.terms.v12.0.txt', sep='\\t')"
   ]
  },
  {
   "cell_type": "code",
   "execution_count": 14,
   "metadata": {},
   "outputs": [
    {
     "data": {
      "text/html": [
       "<div>\n",
       "<style scoped>\n",
       "    .dataframe tbody tr th:only-of-type {\n",
       "        vertical-align: middle;\n",
       "    }\n",
       "\n",
       "    .dataframe tbody tr th {\n",
       "        vertical-align: top;\n",
       "    }\n",
       "\n",
       "    .dataframe thead th {\n",
       "        text-align: right;\n",
       "    }\n",
       "</style>\n",
       "<table border=\"1\" class=\"dataframe\">\n",
       "  <thead>\n",
       "    <tr style=\"text-align: right;\">\n",
       "      <th></th>\n",
       "      <th>#string_protein_id</th>\n",
       "      <th>category</th>\n",
       "      <th>term</th>\n",
       "      <th>description</th>\n",
       "    </tr>\n",
       "  </thead>\n",
       "  <tbody>\n",
       "    <tr>\n",
       "      <th>0</th>\n",
       "      <td>9606.ENSP00000000233</td>\n",
       "      <td>Annotated Keywords (UniProt)</td>\n",
       "      <td>KW-0333</td>\n",
       "      <td>Golgi apparatus</td>\n",
       "    </tr>\n",
       "    <tr>\n",
       "      <th>1</th>\n",
       "      <td>9606.ENSP00000000233</td>\n",
       "      <td>Annotated Keywords (UniProt)</td>\n",
       "      <td>KW-0342</td>\n",
       "      <td>GTP-binding</td>\n",
       "    </tr>\n",
       "    <tr>\n",
       "      <th>2</th>\n",
       "      <td>9606.ENSP00000000233</td>\n",
       "      <td>Annotated Keywords (UniProt)</td>\n",
       "      <td>KW-0449</td>\n",
       "      <td>Lipoprotein</td>\n",
       "    </tr>\n",
       "    <tr>\n",
       "      <th>3</th>\n",
       "      <td>9606.ENSP00000000233</td>\n",
       "      <td>Annotated Keywords (UniProt)</td>\n",
       "      <td>KW-0472</td>\n",
       "      <td>Membrane</td>\n",
       "    </tr>\n",
       "    <tr>\n",
       "      <th>4</th>\n",
       "      <td>9606.ENSP00000000233</td>\n",
       "      <td>Annotated Keywords (UniProt)</td>\n",
       "      <td>KW-0519</td>\n",
       "      <td>Myristate</td>\n",
       "    </tr>\n",
       "    <tr>\n",
       "      <th>...</th>\n",
       "      <td>...</td>\n",
       "      <td>...</td>\n",
       "      <td>...</td>\n",
       "      <td>...</td>\n",
       "    </tr>\n",
       "    <tr>\n",
       "      <th>3632589</th>\n",
       "      <td>9606.ENSP00000501317</td>\n",
       "      <td>Tissue expression (TISSUES)</td>\n",
       "      <td>BTO:0001488</td>\n",
       "      <td>Endocrine gland</td>\n",
       "    </tr>\n",
       "    <tr>\n",
       "      <th>3632590</th>\n",
       "      <td>9606.ENSP00000501317</td>\n",
       "      <td>Tissue expression (TISSUES)</td>\n",
       "      <td>BTO:0001489</td>\n",
       "      <td>Whole body</td>\n",
       "    </tr>\n",
       "    <tr>\n",
       "      <th>3632591</th>\n",
       "      <td>9606.ENSP00000501317</td>\n",
       "      <td>Tissue expression (TISSUES)</td>\n",
       "      <td>BTO:0001491</td>\n",
       "      <td>Viscus</td>\n",
       "    </tr>\n",
       "    <tr>\n",
       "      <th>3632592</th>\n",
       "      <td>9606.ENSP00000501317</td>\n",
       "      <td>Tissue expression (TISSUES)</td>\n",
       "      <td>BTO:0003091</td>\n",
       "      <td>Urogenital system</td>\n",
       "    </tr>\n",
       "    <tr>\n",
       "      <th>3632593</th>\n",
       "      <td>9606.ENSP00000501317</td>\n",
       "      <td>WikiPathways</td>\n",
       "      <td>WP2853</td>\n",
       "      <td>Endoderm differentiation</td>\n",
       "    </tr>\n",
       "  </tbody>\n",
       "</table>\n",
       "<p>3632594 rows × 4 columns</p>\n",
       "</div>"
      ],
      "text/plain": [
       "           #string_protein_id                      category         term  \\\n",
       "0        9606.ENSP00000000233  Annotated Keywords (UniProt)      KW-0333   \n",
       "1        9606.ENSP00000000233  Annotated Keywords (UniProt)      KW-0342   \n",
       "2        9606.ENSP00000000233  Annotated Keywords (UniProt)      KW-0449   \n",
       "3        9606.ENSP00000000233  Annotated Keywords (UniProt)      KW-0472   \n",
       "4        9606.ENSP00000000233  Annotated Keywords (UniProt)      KW-0519   \n",
       "...                       ...                           ...          ...   \n",
       "3632589  9606.ENSP00000501317   Tissue expression (TISSUES)  BTO:0001488   \n",
       "3632590  9606.ENSP00000501317   Tissue expression (TISSUES)  BTO:0001489   \n",
       "3632591  9606.ENSP00000501317   Tissue expression (TISSUES)  BTO:0001491   \n",
       "3632592  9606.ENSP00000501317   Tissue expression (TISSUES)  BTO:0003091   \n",
       "3632593  9606.ENSP00000501317                  WikiPathways       WP2853   \n",
       "\n",
       "                      description  \n",
       "0                 Golgi apparatus  \n",
       "1                     GTP-binding  \n",
       "2                     Lipoprotein  \n",
       "3                        Membrane  \n",
       "4                       Myristate  \n",
       "...                           ...  \n",
       "3632589           Endocrine gland  \n",
       "3632590                Whole body  \n",
       "3632591                    Viscus  \n",
       "3632592         Urogenital system  \n",
       "3632593  Endoderm differentiation  \n",
       "\n",
       "[3632594 rows x 4 columns]"
      ]
     },
     "execution_count": 14,
     "metadata": {},
     "output_type": "execute_result"
    }
   ],
   "source": [
    "protein_enrichment"
   ]
  },
  {
   "cell_type": "code",
   "execution_count": 17,
   "metadata": {},
   "outputs": [
    {
     "data": {
      "text/plain": [
       "category\n",
       "Annotated Keywords (UniProt)                 696\n",
       "Biological Process (Gene Ontology)         15687\n",
       "Cellular Component (Gene Ontology)          2047\n",
       "Disease-gene associations (DISEASES)        4595\n",
       "Human Phenotype (Monarch)                  12134\n",
       "Local Network Cluster (STRING)              4000\n",
       "Molecular Function (Gene Ontology)          4933\n",
       "Protein Domains (Pfam)                      4539\n",
       "Protein Domains (SMART)                      966\n",
       "Protein Domains and Features (InterPro)    14892\n",
       "Reactome Pathways                           2279\n",
       "Subcellular localization (COMPARTMENTS)     2940\n",
       "Tissue expression (TISSUES)                 3761\n",
       "WikiPathways                                 776\n",
       "Name: description, dtype: int64"
      ]
     },
     "execution_count": 17,
     "metadata": {},
     "output_type": "execute_result"
    }
   ],
   "source": [
    "protein_enrichment.groupby('category')['description'].nunique()"
   ]
  },
  {
   "cell_type": "code",
   "execution_count": null,
   "metadata": {},
   "outputs": [],
   "source": []
  },
  {
   "cell_type": "code",
   "execution_count": null,
   "metadata": {},
   "outputs": [],
   "source": [
    "protein_enrichment[protein_enrichment['category']=='Protein Domains and Features (InterPro)']"
   ]
  },
  {
   "cell_type": "code",
   "execution_count": 16,
   "metadata": {},
   "outputs": [
    {
     "data": {
      "text/html": [
       "<div>\n",
       "<style scoped>\n",
       "    .dataframe tbody tr th:only-of-type {\n",
       "        vertical-align: middle;\n",
       "    }\n",
       "\n",
       "    .dataframe tbody tr th {\n",
       "        vertical-align: top;\n",
       "    }\n",
       "\n",
       "    .dataframe thead th {\n",
       "        text-align: right;\n",
       "    }\n",
       "</style>\n",
       "<table border=\"1\" class=\"dataframe\">\n",
       "  <thead>\n",
       "    <tr style=\"text-align: right;\">\n",
       "      <th></th>\n",
       "      <th>#string_protein_id</th>\n",
       "      <th>category</th>\n",
       "      <th>term</th>\n",
       "      <th>description</th>\n",
       "    </tr>\n",
       "  </thead>\n",
       "  <tbody>\n",
       "    <tr>\n",
       "      <th>77</th>\n",
       "      <td>9606.ENSP00000000233</td>\n",
       "      <td>Protein Domains and Features (InterPro)</td>\n",
       "      <td>IPR005225</td>\n",
       "      <td>Small GTP-binding protein domain</td>\n",
       "    </tr>\n",
       "    <tr>\n",
       "      <th>78</th>\n",
       "      <td>9606.ENSP00000000233</td>\n",
       "      <td>Protein Domains and Features (InterPro)</td>\n",
       "      <td>IPR006689</td>\n",
       "      <td>Small GTPase superfamily, ARF/SAR type</td>\n",
       "    </tr>\n",
       "    <tr>\n",
       "      <th>79</th>\n",
       "      <td>9606.ENSP00000000233</td>\n",
       "      <td>Protein Domains and Features (InterPro)</td>\n",
       "      <td>IPR024156</td>\n",
       "      <td>Small GTPase superfamily, ARF type</td>\n",
       "    </tr>\n",
       "    <tr>\n",
       "      <th>80</th>\n",
       "      <td>9606.ENSP00000000233</td>\n",
       "      <td>Protein Domains and Features (InterPro)</td>\n",
       "      <td>IPR027417</td>\n",
       "      <td>P-loop containing nucleoside triphosphate hydr...</td>\n",
       "    </tr>\n",
       "    <tr>\n",
       "      <th>81</th>\n",
       "      <td>9606.ENSP00000000233</td>\n",
       "      <td>Protein Domains and Features (InterPro)</td>\n",
       "      <td>IPR045872</td>\n",
       "      <td>ADP-ribosylation factor 1-5</td>\n",
       "    </tr>\n",
       "    <tr>\n",
       "      <th>...</th>\n",
       "      <td>...</td>\n",
       "      <td>...</td>\n",
       "      <td>...</td>\n",
       "      <td>...</td>\n",
       "    </tr>\n",
       "    <tr>\n",
       "      <th>3632454</th>\n",
       "      <td>9606.ENSP00000501277</td>\n",
       "      <td>Protein Domains and Features (InterPro)</td>\n",
       "      <td>IPR041363</td>\n",
       "      <td>LIM interaction domain</td>\n",
       "    </tr>\n",
       "    <tr>\n",
       "      <th>3632578</th>\n",
       "      <td>9606.ENSP00000501317</td>\n",
       "      <td>Protein Domains and Features (InterPro)</td>\n",
       "      <td>IPR003150</td>\n",
       "      <td>DNA-binding RFX-type winged-helix domain</td>\n",
       "    </tr>\n",
       "    <tr>\n",
       "      <th>3632579</th>\n",
       "      <td>9606.ENSP00000501317</td>\n",
       "      <td>Protein Domains and Features (InterPro)</td>\n",
       "      <td>IPR036388</td>\n",
       "      <td>Winged helix-like DNA-binding domain superfamily</td>\n",
       "    </tr>\n",
       "    <tr>\n",
       "      <th>3632580</th>\n",
       "      <td>9606.ENSP00000501317</td>\n",
       "      <td>Protein Domains and Features (InterPro)</td>\n",
       "      <td>IPR036390</td>\n",
       "      <td>Winged helix DNA-binding domain superfamily</td>\n",
       "    </tr>\n",
       "    <tr>\n",
       "      <th>3632581</th>\n",
       "      <td>9606.ENSP00000501317</td>\n",
       "      <td>Protein Domains and Features (InterPro)</td>\n",
       "      <td>IPR039779</td>\n",
       "      <td>RFX-like DNA-binding protein</td>\n",
       "    </tr>\n",
       "  </tbody>\n",
       "</table>\n",
       "<p>78326 rows × 4 columns</p>\n",
       "</div>"
      ],
      "text/plain": [
       "           #string_protein_id                                 category  \\\n",
       "77       9606.ENSP00000000233  Protein Domains and Features (InterPro)   \n",
       "78       9606.ENSP00000000233  Protein Domains and Features (InterPro)   \n",
       "79       9606.ENSP00000000233  Protein Domains and Features (InterPro)   \n",
       "80       9606.ENSP00000000233  Protein Domains and Features (InterPro)   \n",
       "81       9606.ENSP00000000233  Protein Domains and Features (InterPro)   \n",
       "...                       ...                                      ...   \n",
       "3632454  9606.ENSP00000501277  Protein Domains and Features (InterPro)   \n",
       "3632578  9606.ENSP00000501317  Protein Domains and Features (InterPro)   \n",
       "3632579  9606.ENSP00000501317  Protein Domains and Features (InterPro)   \n",
       "3632580  9606.ENSP00000501317  Protein Domains and Features (InterPro)   \n",
       "3632581  9606.ENSP00000501317  Protein Domains and Features (InterPro)   \n",
       "\n",
       "              term                                        description  \n",
       "77       IPR005225                   Small GTP-binding protein domain  \n",
       "78       IPR006689             Small GTPase superfamily, ARF/SAR type  \n",
       "79       IPR024156                 Small GTPase superfamily, ARF type  \n",
       "80       IPR027417  P-loop containing nucleoside triphosphate hydr...  \n",
       "81       IPR045872                        ADP-ribosylation factor 1-5  \n",
       "...            ...                                                ...  \n",
       "3632454  IPR041363                             LIM interaction domain  \n",
       "3632578  IPR003150           DNA-binding RFX-type winged-helix domain  \n",
       "3632579  IPR036388   Winged helix-like DNA-binding domain superfamily  \n",
       "3632580  IPR036390        Winged helix DNA-binding domain superfamily  \n",
       "3632581  IPR039779                       RFX-like DNA-binding protein  \n",
       "\n",
       "[78326 rows x 4 columns]"
      ]
     },
     "execution_count": 16,
     "metadata": {},
     "output_type": "execute_result"
    }
   ],
   "source": [
    "protein_enrichment[protein_enrichment['category']=='Protein Domains and Features (InterPro)']"
   ]
  },
  {
   "cell_type": "code",
   "execution_count": 13,
   "metadata": {},
   "outputs": [
    {
     "data": {
      "text/plain": [
       "#string_protein_id\n",
       "9606.ENSP00000000233    105\n",
       "9606.ENSP00000000412    196\n",
       "9606.ENSP00000001008    322\n",
       "9606.ENSP00000001146    392\n",
       "9606.ENSP00000002125    110\n",
       "                       ... \n",
       "9606.ENSP00000501254    100\n",
       "9606.ENSP00000501259     21\n",
       "9606.ENSP00000501265     85\n",
       "9606.ENSP00000501277    317\n",
       "9606.ENSP00000501317    100\n",
       "Name: category, Length: 19647, dtype: int64"
      ]
     },
     "execution_count": 13,
     "metadata": {},
     "output_type": "execute_result"
    }
   ],
   "source": [
    "protein_enrichment.groupby('#string_protein_id')['category'].count()"
   ]
  },
  {
   "cell_type": "code",
   "execution_count": 11,
   "metadata": {},
   "outputs": [
    {
     "data": {
      "text/plain": [
       "Cellular anatomical entity                     32353\n",
       "Cytoplasm                                      25346\n",
       "Organelle                                      24130\n",
       "Intracellular organelle                        22840\n",
       "Membrane                                       22306\n",
       "                                               ...  \n",
       "Pre-mRNA 3 end processing protein Pfs2-like        1\n",
       "hnRNPM, RNA recognition motif 3                    1\n",
       "HnRNP M, nuclear localisation signal               1\n",
       "Distal tapering of metatarsals                     1\n",
       "Histone H3-K4 acetylation                          1\n",
       "Name: description, Length: 69736, dtype: int64"
      ]
     },
     "execution_count": 11,
     "metadata": {},
     "output_type": "execute_result"
    }
   ],
   "source": [
    "protein_enrichment['description'].value_counts()"
   ]
  },
  {
   "cell_type": "code",
   "execution_count": null,
   "metadata": {},
   "outputs": [],
   "source": []
  },
  {
   "cell_type": "markdown",
   "metadata": {},
   "source": [
    "### PPI dataset\n",
    "\n",
    "The Protein-Protein Interaction dataset and protein metadata dataset are obtained from the <a href=\"https://string-db.org/cgi/download?sessionId=bLtv7nEpZD9a&species_text=Homo+sapiens&settings_expanded=0&min_download_score=0&filter_redundant_pairs=0&delimiter_type=txt\">STRING</a> database."
   ]
  },
  {
   "cell_type": "markdown",
   "metadata": {},
   "source": [
    "#### Data Cleaning"
   ]
  },
  {
   "cell_type": "code",
   "execution_count": 2,
   "metadata": {},
   "outputs": [],
   "source": [
    "# data = pd.read_csv('../9606.protein.links.v12.0.txt', sep='\\t', names=['link_info'])\n",
    "# data = data.loc[1:]\n",
    "# data[['protein1', 'protein2', 'combined_score']] = data['link_info'].str.split(expand=True)\n",
    "# data.drop(columns=['link_info'], inplace=True)\n",
    "# data['combined_score'] = data['combined_score'].astype(int)\n",
    "# data['protein1'] = data['protein1'].apply(lambda x: x.replace(\"9606.\",\"\"))\n",
    "# data['protein2'] = data['protein2'].apply(lambda x: x.replace(\"9606.\",\"\"))\n",
    "# data.to_csv(\"../cleaned_PPI_full_name.csv\")"
   ]
  },
  {
   "cell_type": "code",
   "execution_count": 13,
   "metadata": {},
   "outputs": [],
   "source": [
    "# PPI data\n",
    "ppi_data = pd.read_csv('../cleaned_PPI_full_name.csv', index_col=0)"
   ]
  },
  {
   "cell_type": "markdown",
   "metadata": {},
   "source": [
    "The PPI dataset contains 3 columns after cleaning -- `protein1`, `protein2` and `combined_score` -- which store information about the proteins involved in an interaction and an assigned score that represents the interaction strength."
   ]
  },
  {
   "cell_type": "code",
   "execution_count": 4,
   "metadata": {},
   "outputs": [
    {
     "name": "stdout",
     "output_type": "stream",
     "text": [
      "<class 'pandas.core.frame.DataFrame'>\n",
      "Int64Index: 13715404 entries, 1 to 13715404\n",
      "Data columns (total 3 columns):\n",
      " #   Column          Dtype \n",
      "---  ------          ----- \n",
      " 0   protein1        object\n",
      " 1   protein2        object\n",
      " 2   combined_score  int64 \n",
      "dtypes: int64(1), object(2)\n",
      "memory usage: 418.6+ MB\n"
     ]
    }
   ],
   "source": [
    "ppi_data.info()"
   ]
  },
  {
   "cell_type": "code",
   "execution_count": null,
   "metadata": {},
   "outputs": [
    {
     "data": {
      "text/plain": [
       "268.6240444685406"
      ]
     },
     "execution_count": 5,
     "metadata": {},
     "output_type": "execute_result"
    }
   ],
   "source": [
    "ppi_data['combined_score'].mean()"
   ]
  },
  {
   "cell_type": "code",
   "execution_count": null,
   "metadata": {},
   "outputs": [
    {
     "data": {
      "image/png": "[encoded data removed]",
      "text/plain": [
       "<Figure size 640x480 with 1 Axes>"
      ]
     },
     "metadata": {},
     "output_type": "display_data"
    }
   ],
   "source": [
    "plt.hist(ppi_data['combined_score'],bins=30)\n",
    "plt.title(\"Distribution of PPI scores\")\n",
    "plt.show()"
   ]
  },
  {
   "cell_type": "markdown",
   "metadata": {},
   "source": [
    "To reduce the data size and focus on only high-confidence interactions, we threshold the PPI dataset to only keep the top 5% scored interactions."
   ]
  },
  {
   "cell_type": "code",
   "execution_count": 66,
   "metadata": {},
   "outputs": [
    {
     "data": {
      "text/plain": [
       "611.0"
      ]
     },
     "execution_count": 66,
     "metadata": {},
     "output_type": "execute_result"
    }
   ],
   "source": [
    "# select threshold\n",
    "threshold = np.percentile(ppi_data['combined_score'], 95)\n",
    "threshold"
   ]
  },
  {
   "cell_type": "code",
   "execution_count": 68,
   "metadata": {},
   "outputs": [
    {
     "data": {
      "text/plain": [
       "(687742, 3)"
      ]
     },
     "execution_count": 68,
     "metadata": {},
     "output_type": "execute_result"
    }
   ],
   "source": [
    "# threshold\n",
    "filtered_ppi_data = ppi_data[ppi_data['combined_score'] >= threshold]\n",
    "filtered_ppi_data.shape"
   ]
  },
  {
   "cell_type": "markdown",
   "metadata": {},
   "source": [
    "### RNA-seq data\n",
    "\n",
    "The RNA-seq data is obtained from <a href=\"https://www.proteinatlas.org/humanproteome/tissue/data#gtex_tissue_groups_rna\">the Human Protein Atlas</a>, and contains transcript expression levels from RNA seq summarized per gene in 35 tissues based on 46 tissue subtypes and in the individual tissue subtypes. The data is obtained from GTEx."
   ]
  },
  {
   "cell_type": "code",
   "execution_count": 8,
   "metadata": {},
   "outputs": [],
   "source": [
    "rna_df = pd.read_csv('rna_tissue_gtex.tsv', sep='\\t')"
   ]
  },
  {
   "cell_type": "code",
   "execution_count": 9,
   "metadata": {},
   "outputs": [
    {
     "data": {
      "text/html": [
       "<div>\n",
       "<style scoped>\n",
       "    .dataframe tbody tr th:only-of-type {\n",
       "        vertical-align: middle;\n",
       "    }\n",
       "\n",
       "    .dataframe tbody tr th {\n",
       "        vertical-align: top;\n",
       "    }\n",
       "\n",
       "    .dataframe thead th {\n",
       "        text-align: right;\n",
       "    }\n",
       "</style>\n",
       "<table border=\"1\" class=\"dataframe\">\n",
       "  <thead>\n",
       "    <tr style=\"text-align: right;\">\n",
       "      <th></th>\n",
       "      <th>Gene</th>\n",
       "      <th>Gene name</th>\n",
       "      <th>Tissue</th>\n",
       "      <th>TPM</th>\n",
       "      <th>pTPM</th>\n",
       "      <th>nTPM</th>\n",
       "    </tr>\n",
       "  </thead>\n",
       "  <tbody>\n",
       "    <tr>\n",
       "      <th>0</th>\n",
       "      <td>ENSG00000000003</td>\n",
       "      <td>TSPAN6</td>\n",
       "      <td>adipose tissue</td>\n",
       "      <td>28.7</td>\n",
       "      <td>35.6</td>\n",
       "      <td>28.6</td>\n",
       "    </tr>\n",
       "    <tr>\n",
       "      <th>1</th>\n",
       "      <td>ENSG00000000003</td>\n",
       "      <td>TSPAN6</td>\n",
       "      <td>adrenal gland</td>\n",
       "      <td>15.2</td>\n",
       "      <td>18.4</td>\n",
       "      <td>17.6</td>\n",
       "    </tr>\n",
       "    <tr>\n",
       "      <th>2</th>\n",
       "      <td>ENSG00000000003</td>\n",
       "      <td>TSPAN6</td>\n",
       "      <td>amygdala</td>\n",
       "      <td>7.2</td>\n",
       "      <td>9.1</td>\n",
       "      <td>13.0</td>\n",
       "    </tr>\n",
       "    <tr>\n",
       "      <th>3</th>\n",
       "      <td>ENSG00000000003</td>\n",
       "      <td>TSPAN6</td>\n",
       "      <td>basal ganglia</td>\n",
       "      <td>7.8</td>\n",
       "      <td>9.6</td>\n",
       "      <td>12.4</td>\n",
       "    </tr>\n",
       "    <tr>\n",
       "      <th>4</th>\n",
       "      <td>ENSG00000000003</td>\n",
       "      <td>TSPAN6</td>\n",
       "      <td>breast</td>\n",
       "      <td>32.5</td>\n",
       "      <td>40.8</td>\n",
       "      <td>33.0</td>\n",
       "    </tr>\n",
       "  </tbody>\n",
       "</table>\n",
       "</div>"
      ],
      "text/plain": [
       "              Gene Gene name          Tissue   TPM  pTPM  nTPM\n",
       "0  ENSG00000000003    TSPAN6  adipose tissue  28.7  35.6  28.6\n",
       "1  ENSG00000000003    TSPAN6   adrenal gland  15.2  18.4  17.6\n",
       "2  ENSG00000000003    TSPAN6        amygdala   7.2   9.1  13.0\n",
       "3  ENSG00000000003    TSPAN6   basal ganglia   7.8   9.6  12.4\n",
       "4  ENSG00000000003    TSPAN6          breast  32.5  40.8  33.0"
      ]
     },
     "execution_count": 9,
     "metadata": {},
     "output_type": "execute_result"
    }
   ],
   "source": [
    "rna_df.head()"
   ]
  },
  {
   "cell_type": "code",
   "execution_count": 22,
   "metadata": {},
   "outputs": [
    {
     "name": "stdout",
     "output_type": "stream",
     "text": [
      "<class 'pandas.core.frame.DataFrame'>\n",
      "RangeIndex: 675206 entries, 0 to 675205\n",
      "Data columns (total 6 columns):\n",
      " #   Column     Non-Null Count   Dtype  \n",
      "---  ------     --------------   -----  \n",
      " 0   Gene       675206 non-null  object \n",
      " 1   Gene name  675206 non-null  object \n",
      " 2   Tissue     675206 non-null  object \n",
      " 3   TPM        675206 non-null  float64\n",
      " 4   pTPM       675206 non-null  float64\n",
      " 5   nTPM       675206 non-null  float64\n",
      "dtypes: float64(3), object(3)\n",
      "memory usage: 30.9+ MB\n"
     ]
    }
   ],
   "source": [
    "rna_df.info()"
   ]
  },
  {
   "cell_type": "code",
   "execution_count": 23,
   "metadata": {},
   "outputs": [
    {
     "data": {
      "text/html": [
       "<div>\n",
       "<style scoped>\n",
       "    .dataframe tbody tr th:only-of-type {\n",
       "        vertical-align: middle;\n",
       "    }\n",
       "\n",
       "    .dataframe tbody tr th {\n",
       "        vertical-align: top;\n",
       "    }\n",
       "\n",
       "    .dataframe thead th {\n",
       "        text-align: right;\n",
       "    }\n",
       "</style>\n",
       "<table border=\"1\" class=\"dataframe\">\n",
       "  <thead>\n",
       "    <tr style=\"text-align: right;\">\n",
       "      <th></th>\n",
       "      <th>TPM</th>\n",
       "      <th>pTPM</th>\n",
       "      <th>nTPM</th>\n",
       "    </tr>\n",
       "  </thead>\n",
       "  <tbody>\n",
       "    <tr>\n",
       "      <th>count</th>\n",
       "      <td>675206.000000</td>\n",
       "      <td>675206.000000</td>\n",
       "      <td>675206.000000</td>\n",
       "    </tr>\n",
       "    <tr>\n",
       "      <th>mean</th>\n",
       "      <td>42.135715</td>\n",
       "      <td>53.171376</td>\n",
       "      <td>59.248355</td>\n",
       "    </tr>\n",
       "    <tr>\n",
       "      <th>std</th>\n",
       "      <td>747.153185</td>\n",
       "      <td>919.048568</td>\n",
       "      <td>1588.709947</td>\n",
       "    </tr>\n",
       "    <tr>\n",
       "      <th>min</th>\n",
       "      <td>0.000000</td>\n",
       "      <td>0.000000</td>\n",
       "      <td>0.000000</td>\n",
       "    </tr>\n",
       "    <tr>\n",
       "      <th>25%</th>\n",
       "      <td>0.400000</td>\n",
       "      <td>0.500000</td>\n",
       "      <td>0.400000</td>\n",
       "    </tr>\n",
       "    <tr>\n",
       "      <th>50%</th>\n",
       "      <td>4.200000</td>\n",
       "      <td>5.400000</td>\n",
       "      <td>5.000000</td>\n",
       "    </tr>\n",
       "    <tr>\n",
       "      <th>75%</th>\n",
       "      <td>15.300000</td>\n",
       "      <td>19.500000</td>\n",
       "      <td>17.200000</td>\n",
       "    </tr>\n",
       "    <tr>\n",
       "      <th>max</th>\n",
       "      <td>87660.200000</td>\n",
       "      <td>99788.700000</td>\n",
       "      <td>339891.800000</td>\n",
       "    </tr>\n",
       "  </tbody>\n",
       "</table>\n",
       "</div>"
      ],
      "text/plain": [
       "                 TPM           pTPM           nTPM\n",
       "count  675206.000000  675206.000000  675206.000000\n",
       "mean       42.135715      53.171376      59.248355\n",
       "std       747.153185     919.048568    1588.709947\n",
       "min         0.000000       0.000000       0.000000\n",
       "25%         0.400000       0.500000       0.400000\n",
       "50%         4.200000       5.400000       5.000000\n",
       "75%        15.300000      19.500000      17.200000\n",
       "max     87660.200000   99788.700000  339891.800000"
      ]
     },
     "execution_count": 23,
     "metadata": {},
     "output_type": "execute_result"
    }
   ],
   "source": [
    "rna_df.describe()"
   ]
  },
  {
   "cell_type": "code",
   "execution_count": 25,
   "metadata": {},
   "outputs": [
    {
     "name": "stdout",
     "output_type": "stream",
     "text": [
      "Missing Values:\n",
      " Gene         0\n",
      "Gene name    0\n",
      "Tissue       0\n",
      "TPM          0\n",
      "pTPM         0\n",
      "nTPM         0\n",
      "dtype: int64\n"
     ]
    }
   ],
   "source": [
    "missing_values = rna_df.isnull().sum()\n",
    "print(\"Missing Values:\\n\", missing_values)"
   ]
  },
  {
   "cell_type": "code",
   "execution_count": 26,
   "metadata": {},
   "outputs": [
    {
     "name": "stdout",
     "output_type": "stream",
     "text": [
      "Unique genes: 20162\n",
      "Unique tissues: 35\n"
     ]
    }
   ],
   "source": [
    "print(\"Unique genes:\", rna_df['Gene'].nunique())\n",
    "print(\"Unique tissues:\", rna_df['Tissue'].nunique())"
   ]
  },
  {
   "cell_type": "code",
   "execution_count": 28,
   "metadata": {},
   "outputs": [
    {
     "data": {
      "image/png": "[encoded data removed]",
      "text/plain": [
       "<Figure size 800x500 with 1 Axes>"
      ]
     },
     "metadata": {},
     "output_type": "display_data"
    },
    {
     "data": {
      "image/png": "[encoded data removed]",
      "text/plain": [
       "<Figure size 800x500 with 1 Axes>"
      ]
     },
     "metadata": {},
     "output_type": "display_data"
    }
   ],
   "source": [
    "# Histogram of TPM\n",
    "plt.figure(figsize=(8, 5))\n",
    "sns.histplot(rna_df['TPM'], bins=50, kde=True)\n",
    "plt.title('Distribution of TPM')\n",
    "plt.xlabel('TPM')\n",
    "plt.show()\n",
    "\n",
    "# Boxplot to check for outliers\n",
    "plt.figure(figsize=(8, 5))\n",
    "sns.boxplot(x=rna_df['TPM'])\n",
    "plt.title('Boxplot of TPM')\n",
    "plt.show()"
   ]
  },
  {
   "cell_type": "code",
   "execution_count": 30,
   "metadata": {},
   "outputs": [
    {
     "data": {
      "image/png": "[encoded data removed]",
      "text/plain": [
       "<Figure size 1000x600 with 1 Axes>"
      ]
     },
     "metadata": {},
     "output_type": "display_data"
    }
   ],
   "source": [
    "genes_per_tissue = rna_df.groupby('Tissue')['Gene'].nunique().sort_values(ascending=False)\n",
    "\n",
    "# Plot the number of genes in each tissue\n",
    "plt.figure(figsize=(10, 6))\n",
    "genes_per_tissue.plot(kind='bar', color='skyblue')\n",
    "plt.title('Number of Unique Genes in Each Tissue')\n",
    "plt.ylabel('Number of Genes')\n",
    "plt.xlabel('Tissue')\n",
    "plt.xticks(rotation=90)\n",
    "plt.show()"
   ]
  },
  {
   "cell_type": "code",
   "execution_count": 29,
   "metadata": {},
   "outputs": [
    {
     "name": "stdout",
     "output_type": "stream",
     "text": [
      "Tissue\n",
      "heart muscle             52.542370\n",
      "colon                    47.735145\n",
      "kidney                   47.043418\n",
      "cerebral cortex          46.594472\n",
      "basal ganglia            45.826799\n",
      "pancreas                 45.765374\n",
      "adipose tissue           45.636012\n",
      "skeletal muscle          44.912260\n",
      "skin                     44.217424\n",
      "liver                    43.918156\n",
      "cervix                   43.844872\n",
      "adrenal gland            42.599273\n",
      "stomach                  42.370788\n",
      "esophagus                42.215110\n",
      "midbrain                 41.716552\n",
      "hypothalamus             41.556960\n",
      "hippocampal formation    41.485591\n",
      "breast                   41.318639\n",
      "urinary bladder          41.293117\n",
      "cerebellum               41.276222\n",
      "amygdala                 41.252974\n",
      "spinal cord              41.210838\n",
      "endometrium              41.113703\n",
      "salivary gland           40.824639\n",
      "vagina                   40.812213\n",
      "small intestine          40.281984\n",
      "pituitary gland          40.279409\n",
      "fallopian tube           40.059063\n",
      "ovary                    39.928735\n",
      "prostate                 39.927686\n",
      "lung                     39.501329\n",
      "thyroid gland            38.596678\n",
      "testis                   38.175454\n",
      "spleen                   35.238342\n",
      "retina                   34.054256\n",
      "Name: TPM, dtype: float64\n"
     ]
    },
    {
     "data": {
      "image/png": "[encoded data removed]",
      "text/plain": [
       "<Figure size 1000x800 with 1 Axes>"
      ]
     },
     "metadata": {},
     "output_type": "display_data"
    }
   ],
   "source": [
    "tissue_mean_tpm = rna_df.groupby('Tissue')['TPM'].mean().sort_values(ascending=False)\n",
    "print(tissue_mean_tpm)\n",
    "\n",
    "plt.figure(figsize=(10, 8))\n",
    "tissue_mean_tpm.plot(kind='bar')\n",
    "plt.title('Mean TPM by Tissue')\n",
    "plt.ylabel('Mean TPM')\n",
    "plt.xticks(rotation=90)\n",
    "plt.show()"
   ]
  },
  {
   "cell_type": "markdown",
   "metadata": {},
   "source": [
    "#### Match RNA to Protein and Create Feature Matrix\n",
    "\n",
    "We utilize the `TPM` column as our feature for the nodes (proteins), which stands for \"Transcripts per Million\". These values are obtained by normalizing the transcript number by gene length and sequencing depth, so they are ready for us to use directly in the model. To match these values to the proteins, we first match the protein IDs with gene IDs using the package `pyensembl`."
   ]
  },
  {
   "cell_type": "code",
   "execution_count": null,
   "metadata": {},
   "outputs": [],
   "source": [
    "from pyensembl import EnsemblRelease\n",
    "match_data = EnsemblRelease(104)\n",
    "# match_data.download()\n",
    "# match_data.index()"
   ]
  },
  {
   "cell_type": "code",
   "execution_count": 19,
   "metadata": {},
   "outputs": [
    {
     "name": "stdout",
     "output_type": "stream",
     "text": [
      "Number of unique proteins: 19622\n"
     ]
    },
    {
     "data": {
      "text/plain": [
       "['ENSP00000360191',\n",
       " 'ENSP00000475939',\n",
       " 'ENSP00000448165',\n",
       " 'ENSP00000381148',\n",
       " 'ENSP00000363394',\n",
       " 'ENSP00000326598',\n",
       " 'ENSP00000375921',\n",
       " 'ENSP00000359240',\n",
       " 'ENSP00000488995',\n",
       " 'ENSP00000316605']"
      ]
     },
     "execution_count": 19,
     "metadata": {},
     "output_type": "execute_result"
    }
   ],
   "source": [
    "all_proteins = set(ppi_data['protein1']).union(set(ppi_data['protein2']))\n",
    "all_proteins = list(all_proteins)\n",
    "print(\"Number of unique proteins: \"+str(len(all_proteins)))\n",
    "all_proteins[:10]"
   ]
  },
  {
   "cell_type": "code",
   "execution_count": 22,
   "metadata": {},
   "outputs": [
    {
     "name": "stdout",
     "output_type": "stream",
     "text": [
      "Number of successfully mapped proteins: 19368\n",
      "Percentage of proteins with mappings: 98.71%\n"
     ]
    }
   ],
   "source": [
    "# Map protein id to gene id and skip unmapped protein id\n",
    "protein_to_gene = {}\n",
    "for protein in all_proteins:\n",
    "    try:\n",
    "        gene_id = data.gene_id_of_protein_id(protein)\n",
    "        protein_to_gene[protein] = gene_id\n",
    "    except ValueError:\n",
    "        continue\n",
    "\n",
    "print(f\"Number of successfully mapped proteins: {len(protein_to_gene)}\")\n",
    "print(f\"Percentage of proteins with mappings: {len(protein_to_gene) / len(all_proteins) * 100:.2f}%\")"
   ]
  },
  {
   "cell_type": "code",
   "execution_count": 27,
   "metadata": {},
   "outputs": [
    {
     "data": {
      "text/html": [
       "<div>\n",
       "<style scoped>\n",
       "    .dataframe tbody tr th:only-of-type {\n",
       "        vertical-align: middle;\n",
       "    }\n",
       "\n",
       "    .dataframe tbody tr th {\n",
       "        vertical-align: top;\n",
       "    }\n",
       "\n",
       "    .dataframe thead th {\n",
       "        text-align: right;\n",
       "    }\n",
       "</style>\n",
       "<table border=\"1\" class=\"dataframe\">\n",
       "  <thead>\n",
       "    <tr style=\"text-align: right;\">\n",
       "      <th></th>\n",
       "      <th>Gene</th>\n",
       "      <th>Tissue</th>\n",
       "      <th>TPM</th>\n",
       "    </tr>\n",
       "  </thead>\n",
       "  <tbody>\n",
       "    <tr>\n",
       "      <th>0</th>\n",
       "      <td>ENSG00000000003</td>\n",
       "      <td>adipose tissue</td>\n",
       "      <td>28.7</td>\n",
       "    </tr>\n",
       "    <tr>\n",
       "      <th>1</th>\n",
       "      <td>ENSG00000000003</td>\n",
       "      <td>adrenal gland</td>\n",
       "      <td>15.2</td>\n",
       "    </tr>\n",
       "    <tr>\n",
       "      <th>2</th>\n",
       "      <td>ENSG00000000003</td>\n",
       "      <td>amygdala</td>\n",
       "      <td>7.2</td>\n",
       "    </tr>\n",
       "    <tr>\n",
       "      <th>3</th>\n",
       "      <td>ENSG00000000003</td>\n",
       "      <td>basal ganglia</td>\n",
       "      <td>7.8</td>\n",
       "    </tr>\n",
       "    <tr>\n",
       "      <th>4</th>\n",
       "      <td>ENSG00000000003</td>\n",
       "      <td>breast</td>\n",
       "      <td>32.5</td>\n",
       "    </tr>\n",
       "  </tbody>\n",
       "</table>\n",
       "</div>"
      ],
      "text/plain": [
       "              Gene          Tissue   TPM\n",
       "0  ENSG00000000003  adipose tissue  28.7\n",
       "1  ENSG00000000003   adrenal gland  15.2\n",
       "2  ENSG00000000003        amygdala   7.2\n",
       "3  ENSG00000000003   basal ganglia   7.8\n",
       "4  ENSG00000000003          breast  32.5"
      ]
     },
     "execution_count": 27,
     "metadata": {},
     "output_type": "execute_result"
    }
   ],
   "source": [
    "rna_df = rna_df[['Gene','Tissue','TPM']] # keep necessary columns\n",
    "rna_df.head()"
   ]
  },
  {
   "cell_type": "code",
   "execution_count": 28,
   "metadata": {},
   "outputs": [
    {
     "data": {
      "text/plain": [
       "35"
      ]
     },
     "execution_count": 28,
     "metadata": {},
     "output_type": "execute_result"
    }
   ],
   "source": [
    "rna_df['Tissue'].nunique()"
   ]
  },
  {
   "cell_type": "code",
   "execution_count": 39,
   "metadata": {},
   "outputs": [
    {
     "data": {
      "text/html": [
       "<div>\n",
       "<style scoped>\n",
       "    .dataframe tbody tr th:only-of-type {\n",
       "        vertical-align: middle;\n",
       "    }\n",
       "\n",
       "    .dataframe tbody tr th {\n",
       "        vertical-align: top;\n",
       "    }\n",
       "\n",
       "    .dataframe thead th {\n",
       "        text-align: right;\n",
       "    }\n",
       "</style>\n",
       "<table border=\"1\" class=\"dataframe\">\n",
       "  <thead>\n",
       "    <tr style=\"text-align: right;\">\n",
       "      <th>Tissue</th>\n",
       "      <th>adipose tissue</th>\n",
       "      <th>adrenal gland</th>\n",
       "      <th>amygdala</th>\n",
       "      <th>basal ganglia</th>\n",
       "      <th>breast</th>\n",
       "      <th>cerebellum</th>\n",
       "      <th>cerebral cortex</th>\n",
       "      <th>cervix</th>\n",
       "      <th>colon</th>\n",
       "      <th>endometrium</th>\n",
       "      <th>...</th>\n",
       "      <th>skeletal muscle</th>\n",
       "      <th>skin</th>\n",
       "      <th>small intestine</th>\n",
       "      <th>spinal cord</th>\n",
       "      <th>spleen</th>\n",
       "      <th>stomach</th>\n",
       "      <th>testis</th>\n",
       "      <th>thyroid gland</th>\n",
       "      <th>urinary bladder</th>\n",
       "      <th>vagina</th>\n",
       "    </tr>\n",
       "    <tr>\n",
       "      <th>Gene</th>\n",
       "      <th></th>\n",
       "      <th></th>\n",
       "      <th></th>\n",
       "      <th></th>\n",
       "      <th></th>\n",
       "      <th></th>\n",
       "      <th></th>\n",
       "      <th></th>\n",
       "      <th></th>\n",
       "      <th></th>\n",
       "      <th></th>\n",
       "      <th></th>\n",
       "      <th></th>\n",
       "      <th></th>\n",
       "      <th></th>\n",
       "      <th></th>\n",
       "      <th></th>\n",
       "      <th></th>\n",
       "      <th></th>\n",
       "      <th></th>\n",
       "      <th></th>\n",
       "    </tr>\n",
       "  </thead>\n",
       "  <tbody>\n",
       "    <tr>\n",
       "      <th>ENSG00000000003</th>\n",
       "      <td>28.7</td>\n",
       "      <td>15.2</td>\n",
       "      <td>7.2</td>\n",
       "      <td>7.8</td>\n",
       "      <td>32.5</td>\n",
       "      <td>2.7</td>\n",
       "      <td>5.7</td>\n",
       "      <td>30.4</td>\n",
       "      <td>31.7</td>\n",
       "      <td>24.8</td>\n",
       "      <td>...</td>\n",
       "      <td>2.1</td>\n",
       "      <td>9.2</td>\n",
       "      <td>16.3</td>\n",
       "      <td>6.0</td>\n",
       "      <td>8.4</td>\n",
       "      <td>9.4</td>\n",
       "      <td>97.1</td>\n",
       "      <td>18.9</td>\n",
       "      <td>26.3</td>\n",
       "      <td>24.7</td>\n",
       "    </tr>\n",
       "    <tr>\n",
       "      <th>ENSG00000000005</th>\n",
       "      <td>20.8</td>\n",
       "      <td>0.0</td>\n",
       "      <td>0.1</td>\n",
       "      <td>0.0</td>\n",
       "      <td>11.7</td>\n",
       "      <td>0.0</td>\n",
       "      <td>0.1</td>\n",
       "      <td>0.1</td>\n",
       "      <td>0.5</td>\n",
       "      <td>0.1</td>\n",
       "      <td>...</td>\n",
       "      <td>1.6</td>\n",
       "      <td>3.1</td>\n",
       "      <td>0.4</td>\n",
       "      <td>0.0</td>\n",
       "      <td>0.1</td>\n",
       "      <td>0.1</td>\n",
       "      <td>0.1</td>\n",
       "      <td>0.2</td>\n",
       "      <td>0.2</td>\n",
       "      <td>0.2</td>\n",
       "    </tr>\n",
       "    <tr>\n",
       "      <th>ENSG00000000419</th>\n",
       "      <td>33.4</td>\n",
       "      <td>38.2</td>\n",
       "      <td>12.4</td>\n",
       "      <td>15.0</td>\n",
       "      <td>33.6</td>\n",
       "      <td>24.3</td>\n",
       "      <td>21.4</td>\n",
       "      <td>35.6</td>\n",
       "      <td>31.1</td>\n",
       "      <td>38.9</td>\n",
       "      <td>...</td>\n",
       "      <td>26.3</td>\n",
       "      <td>30.0</td>\n",
       "      <td>29.7</td>\n",
       "      <td>15.5</td>\n",
       "      <td>33.6</td>\n",
       "      <td>25.4</td>\n",
       "      <td>42.5</td>\n",
       "      <td>34.4</td>\n",
       "      <td>32.8</td>\n",
       "      <td>34.6</td>\n",
       "    </tr>\n",
       "    <tr>\n",
       "      <th>ENSG00000000457</th>\n",
       "      <td>5.5</td>\n",
       "      <td>4.3</td>\n",
       "      <td>1.5</td>\n",
       "      <td>1.7</td>\n",
       "      <td>6.7</td>\n",
       "      <td>5.2</td>\n",
       "      <td>2.3</td>\n",
       "      <td>7.8</td>\n",
       "      <td>5.5</td>\n",
       "      <td>6.5</td>\n",
       "      <td>...</td>\n",
       "      <td>3.6</td>\n",
       "      <td>6.9</td>\n",
       "      <td>5.5</td>\n",
       "      <td>2.3</td>\n",
       "      <td>5.8</td>\n",
       "      <td>3.9</td>\n",
       "      <td>6.5</td>\n",
       "      <td>7.3</td>\n",
       "      <td>7.8</td>\n",
       "      <td>6.8</td>\n",
       "    </tr>\n",
       "    <tr>\n",
       "      <th>ENSG00000000460</th>\n",
       "      <td>1.8</td>\n",
       "      <td>0.9</td>\n",
       "      <td>0.4</td>\n",
       "      <td>0.4</td>\n",
       "      <td>1.7</td>\n",
       "      <td>3.4</td>\n",
       "      <td>0.6</td>\n",
       "      <td>2.1</td>\n",
       "      <td>1.4</td>\n",
       "      <td>1.8</td>\n",
       "      <td>...</td>\n",
       "      <td>0.4</td>\n",
       "      <td>1.7</td>\n",
       "      <td>1.5</td>\n",
       "      <td>1.0</td>\n",
       "      <td>1.7</td>\n",
       "      <td>0.9</td>\n",
       "      <td>8.5</td>\n",
       "      <td>1.6</td>\n",
       "      <td>1.6</td>\n",
       "      <td>1.8</td>\n",
       "    </tr>\n",
       "  </tbody>\n",
       "</table>\n",
       "<p>5 rows × 35 columns</p>\n",
       "</div>"
      ],
      "text/plain": [
       "Tissue           adipose tissue  adrenal gland  amygdala  basal ganglia  \\\n",
       "Gene                                                                      \n",
       "ENSG00000000003            28.7           15.2       7.2            7.8   \n",
       "ENSG00000000005            20.8            0.0       0.1            0.0   \n",
       "ENSG00000000419            33.4           38.2      12.4           15.0   \n",
       "ENSG00000000457             5.5            4.3       1.5            1.7   \n",
       "ENSG00000000460             1.8            0.9       0.4            0.4   \n",
       "\n",
       "Tissue           breast  cerebellum  cerebral cortex  cervix  colon  \\\n",
       "Gene                                                                  \n",
       "ENSG00000000003    32.5         2.7              5.7    30.4   31.7   \n",
       "ENSG00000000005    11.7         0.0              0.1     0.1    0.5   \n",
       "ENSG00000000419    33.6        24.3             21.4    35.6   31.1   \n",
       "ENSG00000000457     6.7         5.2              2.3     7.8    5.5   \n",
       "ENSG00000000460     1.7         3.4              0.6     2.1    1.4   \n",
       "\n",
       "Tissue           endometrium  ...  skeletal muscle  skin  small intestine  \\\n",
       "Gene                          ...                                           \n",
       "ENSG00000000003         24.8  ...              2.1   9.2             16.3   \n",
       "ENSG00000000005          0.1  ...              1.6   3.1              0.4   \n",
       "ENSG00000000419         38.9  ...             26.3  30.0             29.7   \n",
       "ENSG00000000457          6.5  ...              3.6   6.9              5.5   \n",
       "ENSG00000000460          1.8  ...              0.4   1.7              1.5   \n",
       "\n",
       "Tissue           spinal cord  spleen  stomach  testis  thyroid gland  \\\n",
       "Gene                                                                   \n",
       "ENSG00000000003          6.0     8.4      9.4    97.1           18.9   \n",
       "ENSG00000000005          0.0     0.1      0.1     0.1            0.2   \n",
       "ENSG00000000419         15.5    33.6     25.4    42.5           34.4   \n",
       "ENSG00000000457          2.3     5.8      3.9     6.5            7.3   \n",
       "ENSG00000000460          1.0     1.7      0.9     8.5            1.6   \n",
       "\n",
       "Tissue           urinary bladder  vagina  \n",
       "Gene                                      \n",
       "ENSG00000000003             26.3    24.7  \n",
       "ENSG00000000005              0.2     0.2  \n",
       "ENSG00000000419             32.8    34.6  \n",
       "ENSG00000000457              7.8     6.8  \n",
       "ENSG00000000460              1.6     1.8  \n",
       "\n",
       "[5 rows x 35 columns]"
      ]
     },
     "execution_count": 39,
     "metadata": {},
     "output_type": "execute_result"
    }
   ],
   "source": [
    "gene_tissue_pivot = rna_df.pivot_table(\n",
    "    index='Gene',       \n",
    "    columns='Tissue',   \n",
    "    values='TPM',       \n",
    "    aggfunc='mean'      # In case of duplicates, use the mean value\n",
    ")\n",
    "gene_tissue_pivot.head()"
   ]
  },
  {
   "cell_type": "code",
   "execution_count": 41,
   "metadata": {},
   "outputs": [
    {
     "data": {
      "text/plain": [
       "Tissue\n",
       "adipose tissue           896\n",
       "adrenal gland            896\n",
       "amygdala                 896\n",
       "basal ganglia            896\n",
       "breast                   896\n",
       "cerebellum               896\n",
       "cerebral cortex          896\n",
       "cervix                   896\n",
       "colon                    896\n",
       "endometrium              896\n",
       "esophagus                896\n",
       "fallopian tube           896\n",
       "heart muscle             896\n",
       "hippocampal formation    896\n",
       "hypothalamus             896\n",
       "kidney                   896\n",
       "liver                    896\n",
       "lung                     896\n",
       "midbrain                 896\n",
       "ovary                    896\n",
       "pancreas                 896\n",
       "pituitary gland          896\n",
       "prostate                 896\n",
       "retina                     0\n",
       "salivary gland           896\n",
       "skeletal muscle          896\n",
       "skin                     896\n",
       "small intestine          896\n",
       "spinal cord              896\n",
       "spleen                   896\n",
       "stomach                  896\n",
       "testis                   896\n",
       "thyroid gland            896\n",
       "urinary bladder          896\n",
       "vagina                   896\n",
       "dtype: int64"
      ]
     },
     "execution_count": 41,
     "metadata": {},
     "output_type": "execute_result"
    }
   ],
   "source": [
    "gene_tissue_pivot.isna().sum()"
   ]
  },
  {
   "cell_type": "code",
   "execution_count": null,
   "metadata": {},
   "outputs": [],
   "source": [
    "gene_tissue_pivot.dropna(inplace=True) # drop the 896 genes that have little available data"
   ]
  },
  {
   "cell_type": "code",
   "execution_count": 47,
   "metadata": {},
   "outputs": [],
   "source": [
    "gene_tissue_pivot.reset_index(inplace=True)"
   ]
  },
  {
   "cell_type": "code",
   "execution_count": 48,
   "metadata": {},
   "outputs": [
    {
     "data": {
      "text/plain": [
       "(19266, 36)"
      ]
     },
     "execution_count": 48,
     "metadata": {},
     "output_type": "execute_result"
    }
   ],
   "source": [
    "gene_tissue_pivot.shape"
   ]
  },
  {
   "cell_type": "code",
   "execution_count": 52,
   "metadata": {},
   "outputs": [],
   "source": [
    "# subset_proteins = list(protein_to_gene.keys())[:50]\n",
    "# subset_genes = {protein_to_gene[protein] for protein in subset_proteins}\n",
    "\n",
    "all_proteins_matched = list(protein_to_gene.keys())\n",
    "all_genes_matched = {protein_to_gene[protein] for protein in all_proteins_matched}"
   ]
  },
  {
   "cell_type": "code",
   "execution_count": 53,
   "metadata": {},
   "outputs": [
    {
     "name": "stdout",
     "output_type": "stream",
     "text": [
      "Feature matrix created for 19088 proteins.\n",
      "Number of unmatched proteins: 280\n"
     ]
    },
    {
     "name": "stderr",
     "output_type": "stream",
     "text": [
      "/var/folders/rl/hnl6k6053sxb72xb666_fj5r0000gn/T/ipykernel_35749/761122016.py:15: SettingWithCopyWarning: \n",
      "A value is trying to be set on a copy of a slice from a DataFrame.\n",
      "Try using .loc[row_indexer,col_indexer] = value instead\n",
      "\n",
      "See the caveats in the documentation: https://pandas.pydata.org/pandas-docs/stable/user_guide/indexing.html#returning-a-view-versus-a-copy\n",
      "  filtered_pivot['Protein'] = filtered_pivot['Gene'].map({gene: protein for protein, gene in matched_proteins})\n"
     ]
    }
   ],
   "source": [
    "matched_proteins = []\n",
    "unmatched_proteins = []\n",
    "\n",
    "for protein in all_proteins_matched:\n",
    "    gene_id = protein_to_gene.get(protein, None)\n",
    "    if gene_id in gene_tissue_pivot['Gene'].values:\n",
    "        matched_proteins.append((protein, gene_id))\n",
    "    else:\n",
    "        unmatched_proteins.append(protein)\n",
    "\n",
    "if matched_proteins:\n",
    "    matched_genes = [gene for _, gene in matched_proteins]\n",
    "    filtered_pivot = gene_tissue_pivot[gene_tissue_pivot['Gene'].isin(matched_genes)]\n",
    "\n",
    "    filtered_pivot['Protein'] = filtered_pivot['Gene'].map({gene: protein for protein, gene in matched_proteins})\n",
    "    feature_matrix = filtered_pivot[['Protein'] + [col for col in filtered_pivot.columns if col != 'Protein']]\n",
    "    print(f\"Feature matrix created for {len(matched_proteins)} proteins.\")\n",
    "else:\n",
    "    feature_matrix = pd.DataFrame()\n",
    "    print(\"No proteins were successfully matched to the gene data.\")\n",
    "\n",
    "print(f\"Number of unmatched proteins: {len(unmatched_proteins)}\")"
   ]
  },
  {
   "cell_type": "code",
   "execution_count": 56,
   "metadata": {},
   "outputs": [
    {
     "data": {
      "text/html": [
       "<div>\n",
       "<style scoped>\n",
       "    .dataframe tbody tr th:only-of-type {\n",
       "        vertical-align: middle;\n",
       "    }\n",
       "\n",
       "    .dataframe tbody tr th {\n",
       "        vertical-align: top;\n",
       "    }\n",
       "\n",
       "    .dataframe thead th {\n",
       "        text-align: right;\n",
       "    }\n",
       "</style>\n",
       "<table border=\"1\" class=\"dataframe\">\n",
       "  <thead>\n",
       "    <tr style=\"text-align: right;\">\n",
       "      <th>Tissue</th>\n",
       "      <th>Protein</th>\n",
       "      <th>adipose tissue</th>\n",
       "      <th>adrenal gland</th>\n",
       "      <th>amygdala</th>\n",
       "      <th>basal ganglia</th>\n",
       "      <th>breast</th>\n",
       "      <th>cerebellum</th>\n",
       "      <th>cerebral cortex</th>\n",
       "      <th>cervix</th>\n",
       "      <th>colon</th>\n",
       "      <th>...</th>\n",
       "      <th>skeletal muscle</th>\n",
       "      <th>skin</th>\n",
       "      <th>small intestine</th>\n",
       "      <th>spinal cord</th>\n",
       "      <th>spleen</th>\n",
       "      <th>stomach</th>\n",
       "      <th>testis</th>\n",
       "      <th>thyroid gland</th>\n",
       "      <th>urinary bladder</th>\n",
       "      <th>vagina</th>\n",
       "    </tr>\n",
       "  </thead>\n",
       "  <tbody>\n",
       "    <tr>\n",
       "      <th>0</th>\n",
       "      <td>ENSP00000362111</td>\n",
       "      <td>28.7</td>\n",
       "      <td>15.2</td>\n",
       "      <td>7.2</td>\n",
       "      <td>7.8</td>\n",
       "      <td>32.5</td>\n",
       "      <td>2.7</td>\n",
       "      <td>5.7</td>\n",
       "      <td>30.4</td>\n",
       "      <td>31.7</td>\n",
       "      <td>...</td>\n",
       "      <td>2.1</td>\n",
       "      <td>9.2</td>\n",
       "      <td>16.3</td>\n",
       "      <td>6.0</td>\n",
       "      <td>8.4</td>\n",
       "      <td>9.4</td>\n",
       "      <td>97.1</td>\n",
       "      <td>18.9</td>\n",
       "      <td>26.3</td>\n",
       "      <td>24.7</td>\n",
       "    </tr>\n",
       "    <tr>\n",
       "      <th>1</th>\n",
       "      <td>ENSP00000362122</td>\n",
       "      <td>20.8</td>\n",
       "      <td>0.0</td>\n",
       "      <td>0.1</td>\n",
       "      <td>0.0</td>\n",
       "      <td>11.7</td>\n",
       "      <td>0.0</td>\n",
       "      <td>0.1</td>\n",
       "      <td>0.1</td>\n",
       "      <td>0.5</td>\n",
       "      <td>...</td>\n",
       "      <td>1.6</td>\n",
       "      <td>3.1</td>\n",
       "      <td>0.4</td>\n",
       "      <td>0.0</td>\n",
       "      <td>0.1</td>\n",
       "      <td>0.1</td>\n",
       "      <td>0.1</td>\n",
       "      <td>0.2</td>\n",
       "      <td>0.2</td>\n",
       "      <td>0.2</td>\n",
       "    </tr>\n",
       "    <tr>\n",
       "      <th>2</th>\n",
       "      <td>ENSP00000360638</td>\n",
       "      <td>33.4</td>\n",
       "      <td>38.2</td>\n",
       "      <td>12.4</td>\n",
       "      <td>15.0</td>\n",
       "      <td>33.6</td>\n",
       "      <td>24.3</td>\n",
       "      <td>21.4</td>\n",
       "      <td>35.6</td>\n",
       "      <td>31.1</td>\n",
       "      <td>...</td>\n",
       "      <td>26.3</td>\n",
       "      <td>30.0</td>\n",
       "      <td>29.7</td>\n",
       "      <td>15.5</td>\n",
       "      <td>33.6</td>\n",
       "      <td>25.4</td>\n",
       "      <td>42.5</td>\n",
       "      <td>34.4</td>\n",
       "      <td>32.8</td>\n",
       "      <td>34.6</td>\n",
       "    </tr>\n",
       "    <tr>\n",
       "      <th>3</th>\n",
       "      <td>ENSP00000356746</td>\n",
       "      <td>5.5</td>\n",
       "      <td>4.3</td>\n",
       "      <td>1.5</td>\n",
       "      <td>1.7</td>\n",
       "      <td>6.7</td>\n",
       "      <td>5.2</td>\n",
       "      <td>2.3</td>\n",
       "      <td>7.8</td>\n",
       "      <td>5.5</td>\n",
       "      <td>...</td>\n",
       "      <td>3.6</td>\n",
       "      <td>6.9</td>\n",
       "      <td>5.5</td>\n",
       "      <td>2.3</td>\n",
       "      <td>5.8</td>\n",
       "      <td>3.9</td>\n",
       "      <td>6.5</td>\n",
       "      <td>7.3</td>\n",
       "      <td>7.8</td>\n",
       "      <td>6.8</td>\n",
       "    </tr>\n",
       "    <tr>\n",
       "      <th>4</th>\n",
       "      <td>ENSP00000286031</td>\n",
       "      <td>1.8</td>\n",
       "      <td>0.9</td>\n",
       "      <td>0.4</td>\n",
       "      <td>0.4</td>\n",
       "      <td>1.7</td>\n",
       "      <td>3.4</td>\n",
       "      <td>0.6</td>\n",
       "      <td>2.1</td>\n",
       "      <td>1.4</td>\n",
       "      <td>...</td>\n",
       "      <td>0.4</td>\n",
       "      <td>1.7</td>\n",
       "      <td>1.5</td>\n",
       "      <td>1.0</td>\n",
       "      <td>1.7</td>\n",
       "      <td>0.9</td>\n",
       "      <td>8.5</td>\n",
       "      <td>1.6</td>\n",
       "      <td>1.6</td>\n",
       "      <td>1.8</td>\n",
       "    </tr>\n",
       "  </tbody>\n",
       "</table>\n",
       "<p>5 rows × 36 columns</p>\n",
       "</div>"
      ],
      "text/plain": [
       "Tissue          Protein  adipose tissue  adrenal gland  amygdala  \\\n",
       "0       ENSP00000362111            28.7           15.2       7.2   \n",
       "1       ENSP00000362122            20.8            0.0       0.1   \n",
       "2       ENSP00000360638            33.4           38.2      12.4   \n",
       "3       ENSP00000356746             5.5            4.3       1.5   \n",
       "4       ENSP00000286031             1.8            0.9       0.4   \n",
       "\n",
       "Tissue  basal ganglia  breast  cerebellum  cerebral cortex  cervix  colon  \\\n",
       "0                 7.8    32.5         2.7              5.7    30.4   31.7   \n",
       "1                 0.0    11.7         0.0              0.1     0.1    0.5   \n",
       "2                15.0    33.6        24.3             21.4    35.6   31.1   \n",
       "3                 1.7     6.7         5.2              2.3     7.8    5.5   \n",
       "4                 0.4     1.7         3.4              0.6     2.1    1.4   \n",
       "\n",
       "Tissue  ...  skeletal muscle  skin  small intestine  spinal cord  spleen  \\\n",
       "0       ...              2.1   9.2             16.3          6.0     8.4   \n",
       "1       ...              1.6   3.1              0.4          0.0     0.1   \n",
       "2       ...             26.3  30.0             29.7         15.5    33.6   \n",
       "3       ...              3.6   6.9              5.5          2.3     5.8   \n",
       "4       ...              0.4   1.7              1.5          1.0     1.7   \n",
       "\n",
       "Tissue  stomach  testis  thyroid gland  urinary bladder  vagina  \n",
       "0           9.4    97.1           18.9             26.3    24.7  \n",
       "1           0.1     0.1            0.2              0.2     0.2  \n",
       "2          25.4    42.5           34.4             32.8    34.6  \n",
       "3           3.9     6.5            7.3              7.8     6.8  \n",
       "4           0.9     8.5            1.6              1.6     1.8  \n",
       "\n",
       "[5 rows x 36 columns]"
      ]
     },
     "execution_count": 56,
     "metadata": {},
     "output_type": "execute_result"
    }
   ],
   "source": [
    "feature_matrix_keep = feature_matrix.drop(columns=['Gene'])\n",
    "feature_matrix_keep.head()"
   ]
  },
  {
   "cell_type": "code",
   "execution_count": 57,
   "metadata": {},
   "outputs": [],
   "source": [
    "feature_matrix_keep.to_csv(\"PPI_feature_mat.csv\", index=False)"
   ]
  },
  {
   "cell_type": "code",
   "execution_count": 60,
   "metadata": {},
   "outputs": [
    {
     "name": "stdout",
     "output_type": "stream",
     "text": [
      "Percentage of proteins after preprocessing with proper RNA feature: 0.97242890632963\n"
     ]
    }
   ],
   "source": [
    "print(\"Percentage of proteins after preprocessing with proper RNA feature: \" + str(feature_matrix_keep.shape[0]/(ppi_data['protein1'].nunique())))"
   ]
  },
  {
   "cell_type": "markdown",
   "metadata": {},
   "source": [
    "### Protein Annotation"
   ]
  },
  {
   "cell_type": "code",
   "execution_count": 40,
   "metadata": {},
   "outputs": [],
   "source": [
    "protein_df = pd.read_csv('../normal_ihc_data.tsv', sep='\\t')"
   ]
  },
  {
   "cell_type": "code",
   "execution_count": 41,
   "metadata": {},
   "outputs": [
    {
     "data": {
      "text/html": [
       "<div>\n",
       "<style scoped>\n",
       "    .dataframe tbody tr th:only-of-type {\n",
       "        vertical-align: middle;\n",
       "    }\n",
       "\n",
       "    .dataframe tbody tr th {\n",
       "        vertical-align: top;\n",
       "    }\n",
       "\n",
       "    .dataframe thead th {\n",
       "        text-align: right;\n",
       "    }\n",
       "</style>\n",
       "<table border=\"1\" class=\"dataframe\">\n",
       "  <thead>\n",
       "    <tr style=\"text-align: right;\">\n",
       "      <th></th>\n",
       "      <th>Gene</th>\n",
       "      <th>Gene name</th>\n",
       "      <th>Tissue</th>\n",
       "      <th>IHC tissue name</th>\n",
       "      <th>Cell type</th>\n",
       "      <th>Level</th>\n",
       "      <th>Reliability</th>\n",
       "    </tr>\n",
       "  </thead>\n",
       "  <tbody>\n",
       "    <tr>\n",
       "      <th>0</th>\n",
       "      <td>ENSG00000000003</td>\n",
       "      <td>TSPAN6</td>\n",
       "      <td>Adipose tissue</td>\n",
       "      <td>Adipose tissue</td>\n",
       "      <td>adipocytes</td>\n",
       "      <td>Not detected</td>\n",
       "      <td>Approved</td>\n",
       "    </tr>\n",
       "    <tr>\n",
       "      <th>1</th>\n",
       "      <td>ENSG00000000003</td>\n",
       "      <td>TSPAN6</td>\n",
       "      <td>Adrenal gland</td>\n",
       "      <td>Adrenal gland</td>\n",
       "      <td>glandular cells</td>\n",
       "      <td>Not detected</td>\n",
       "      <td>Approved</td>\n",
       "    </tr>\n",
       "    <tr>\n",
       "      <th>2</th>\n",
       "      <td>ENSG00000000003</td>\n",
       "      <td>TSPAN6</td>\n",
       "      <td>Appendix</td>\n",
       "      <td>Appendix</td>\n",
       "      <td>glandular cells</td>\n",
       "      <td>Medium</td>\n",
       "      <td>Approved</td>\n",
       "    </tr>\n",
       "    <tr>\n",
       "      <th>3</th>\n",
       "      <td>ENSG00000000003</td>\n",
       "      <td>TSPAN6</td>\n",
       "      <td>Appendix</td>\n",
       "      <td>Appendix</td>\n",
       "      <td>lymphoid tissue</td>\n",
       "      <td>Not detected</td>\n",
       "      <td>Approved</td>\n",
       "    </tr>\n",
       "    <tr>\n",
       "      <th>4</th>\n",
       "      <td>ENSG00000000003</td>\n",
       "      <td>TSPAN6</td>\n",
       "      <td>Bone marrow</td>\n",
       "      <td>Bone marrow</td>\n",
       "      <td>hematopoietic cells</td>\n",
       "      <td>Not detected</td>\n",
       "      <td>Approved</td>\n",
       "    </tr>\n",
       "    <tr>\n",
       "      <th>...</th>\n",
       "      <td>...</td>\n",
       "      <td>...</td>\n",
       "      <td>...</td>\n",
       "      <td>...</td>\n",
       "      <td>...</td>\n",
       "      <td>...</td>\n",
       "      <td>...</td>\n",
       "    </tr>\n",
       "    <tr>\n",
       "      <th>1198180</th>\n",
       "      <td>ENSG00000291316</td>\n",
       "      <td>ENSG00000291316</td>\n",
       "      <td>Tonsil</td>\n",
       "      <td>Tonsil</td>\n",
       "      <td>germinal center cells</td>\n",
       "      <td>Low</td>\n",
       "      <td>Approved</td>\n",
       "    </tr>\n",
       "    <tr>\n",
       "      <th>1198181</th>\n",
       "      <td>ENSG00000291316</td>\n",
       "      <td>ENSG00000291316</td>\n",
       "      <td>Tonsil</td>\n",
       "      <td>Tonsil</td>\n",
       "      <td>non-germinal center cells</td>\n",
       "      <td>Low</td>\n",
       "      <td>Approved</td>\n",
       "    </tr>\n",
       "    <tr>\n",
       "      <th>1198182</th>\n",
       "      <td>ENSG00000291316</td>\n",
       "      <td>ENSG00000291316</td>\n",
       "      <td>Tonsil</td>\n",
       "      <td>Tonsil</td>\n",
       "      <td>squamous epithelial cells</td>\n",
       "      <td>Medium</td>\n",
       "      <td>Approved</td>\n",
       "    </tr>\n",
       "    <tr>\n",
       "      <th>1198183</th>\n",
       "      <td>ENSG00000291316</td>\n",
       "      <td>ENSG00000291316</td>\n",
       "      <td>Urinary bladder</td>\n",
       "      <td>Urinary bladder</td>\n",
       "      <td>urothelial cells</td>\n",
       "      <td>High</td>\n",
       "      <td>Approved</td>\n",
       "    </tr>\n",
       "    <tr>\n",
       "      <th>1198184</th>\n",
       "      <td>ENSG00000291316</td>\n",
       "      <td>ENSG00000291316</td>\n",
       "      <td>Vagina</td>\n",
       "      <td>Vagina</td>\n",
       "      <td>squamous epithelial cells</td>\n",
       "      <td>Medium</td>\n",
       "      <td>Approved</td>\n",
       "    </tr>\n",
       "  </tbody>\n",
       "</table>\n",
       "<p>1198185 rows × 7 columns</p>\n",
       "</div>"
      ],
      "text/plain": [
       "                    Gene        Gene name           Tissue  IHC tissue name  \\\n",
       "0        ENSG00000000003           TSPAN6   Adipose tissue   Adipose tissue   \n",
       "1        ENSG00000000003           TSPAN6    Adrenal gland    Adrenal gland   \n",
       "2        ENSG00000000003           TSPAN6         Appendix         Appendix   \n",
       "3        ENSG00000000003           TSPAN6         Appendix         Appendix   \n",
       "4        ENSG00000000003           TSPAN6      Bone marrow      Bone marrow   \n",
       "...                  ...              ...              ...              ...   \n",
       "1198180  ENSG00000291316  ENSG00000291316           Tonsil           Tonsil   \n",
       "1198181  ENSG00000291316  ENSG00000291316           Tonsil           Tonsil   \n",
       "1198182  ENSG00000291316  ENSG00000291316           Tonsil           Tonsil   \n",
       "1198183  ENSG00000291316  ENSG00000291316  Urinary bladder  Urinary bladder   \n",
       "1198184  ENSG00000291316  ENSG00000291316           Vagina           Vagina   \n",
       "\n",
       "                         Cell type         Level Reliability  \n",
       "0                       adipocytes  Not detected    Approved  \n",
       "1                  glandular cells  Not detected    Approved  \n",
       "2                  glandular cells        Medium    Approved  \n",
       "3                  lymphoid tissue  Not detected    Approved  \n",
       "4              hematopoietic cells  Not detected    Approved  \n",
       "...                            ...           ...         ...  \n",
       "1198180      germinal center cells           Low    Approved  \n",
       "1198181  non-germinal center cells           Low    Approved  \n",
       "1198182  squamous epithelial cells        Medium    Approved  \n",
       "1198183           urothelial cells          High    Approved  \n",
       "1198184  squamous epithelial cells        Medium    Approved  \n",
       "\n",
       "[1198185 rows x 7 columns]"
      ]
     },
     "execution_count": 41,
     "metadata": {},
     "output_type": "execute_result"
    }
   ],
   "source": [
    "protein_df"
   ]
  },
  {
   "cell_type": "code",
   "execution_count": null,
   "metadata": {},
   "outputs": [],
   "source": []
  }
 ],
 "metadata": {
  "kernelspec": {
   "display_name": "dsc80",
   "language": "python",
   "name": "python3"
  },
  "language_info": {
   "codemirror_mode": {
    "name": "ipython",
    "version": 3
   },
   "file_extension": ".py",
   "mimetype": "text/x-python",
   "name": "python",
   "nbconvert_exporter": "python",
   "pygments_lexer": "ipython3",
   "version": "3.8.19"
  }
 },
 "nbformat": 4,
 "nbformat_minor": 2
}
