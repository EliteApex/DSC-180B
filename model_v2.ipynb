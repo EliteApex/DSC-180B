{
 "cells": [
  {
   "cell_type": "code",
   "execution_count": 2,
   "metadata": {},
   "outputs": [],
   "source": [
    "import numpy as np\n",
    "import pandas as pd\n",
    "import torch\n",
    "import torch.nn.functional as F\n",
    "from torch_geometric.nn import GCNConv, VGAE\n",
    "from torch_geometric.data import Data\n",
    "from torch_geometric.utils import from_networkx, to_dense_adj, dense_to_sparse, train_test_split_edges\n",
    "import networkx as nx\n",
    "import matplotlib.pyplot as plt"
   ]
  },
  {
   "cell_type": "code",
   "execution_count": 3,
   "metadata": {},
   "outputs": [],
   "source": [
    "ppi_df = pd.read_csv('9606.protein.links.v12.0.txt', delimiter= ' ')\n",
    "def find_common_prefix(strings):\n",
    "    if not strings:\n",
    "        return \"\"\n",
    "    prefix = strings[0]\n",
    "    for string in strings[1:]:\n",
    "        while not string.startswith(prefix):\n",
    "            prefix = prefix[:-1]\n",
    "            if not prefix:\n",
    "                return \"\"\n",
    "    return prefix\n",
    "\n",
    "\n",
    "protein1_prefix = find_common_prefix(ppi_df['protein1'].tolist())\n",
    "protein2_prefix = find_common_prefix(ppi_df['protein2'].tolist())\n",
    "\n",
    "\n",
    "ppi_df['protein1'] = ppi_df['protein1'].str.replace(protein1_prefix, '', regex=False)\n",
    "ppi_df['protein2'] = ppi_df['protein2'].str.replace(protein1_prefix, '', regex=False)"
   ]
  },
  {
   "cell_type": "code",
   "execution_count": 4,
   "metadata": {},
   "outputs": [
    {
     "name": "stderr",
     "output_type": "stream",
     "text": [
      "c:\\Users\\siddu\\anaconda3\\envs\\pytorch_audio\\Lib\\site-packages\\torch_geometric\\deprecation.py:26: UserWarning: 'train_test_split_edges' is deprecated, use 'transforms.RandomLinkSplit' instead\n",
      "  warnings.warn(out)\n"
     ]
    }
   ],
   "source": [
    "df = ppi_df\n",
    "df['protein1'] = df['protein1'].astype(str)\n",
    "df['protein2'] = df['protein2'].astype(str)\n",
    "\n",
    "G = nx.Graph()\n",
    "for _, row in df.iterrows():\n",
    "    G.add_edge(row['protein1'], row['protein2'], weight=row['combined_score'])\n",
    "\n",
    "data = from_networkx(G)\n",
    "data = train_test_split_edges(data, val_ratio=0.2, test_ratio=0.2)\n"
   ]
  },
  {
   "cell_type": "code",
   "execution_count": 5,
   "metadata": {},
   "outputs": [],
   "source": [
    "dense_adj = to_dense_adj(data.train_pos_edge_index, max_num_nodes=data.num_nodes)\n",
    "higher_order_adj = torch.matmul(dense_adj, dense_adj)  # A^2\n",
    "higher_order_edge_index, _ = dense_to_sparse(higher_order_adj)\n",
    "data.train_pos_edge_index = higher_order_edge_index"
   ]
  },
  {
   "cell_type": "code",
   "execution_count": 6,
   "metadata": {},
   "outputs": [],
   "source": [
    "class GCNEncoder(torch.nn.Module):\n",
    "    def __init__(self, in_channels, out_channels):\n",
    "        super(GCNEncoder, self).__init__()\n",
    "        self.conv1 = GCNConv(in_channels, 2 * out_channels)\n",
    "        self.conv2 = GCNConv(2 * out_channels, out_channels)\n",
    "\n",
    "    def forward(self, x, edge_index):\n",
    "        x1 = F.relu(self.conv1(x, edge_index))\n",
    "        x2 = self.conv2(x1, edge_index)\n",
    "        return torch.cat([x1, x2], dim=1)"
   ]
  },
  {
   "cell_type": "code",
   "execution_count": 7,
   "metadata": {},
   "outputs": [],
   "source": [
    "in_channels = data.num_node_features if data.x is not None else 1\n",
    "out_channels = 32  # Latent dimension\n",
    "model = VGAE(GCNEncoder(in_channels, out_channels))\n",
    "\n",
    "# 5. Optimization and Training Setup\n",
    "optimizer = torch.optim.Adam(model.parameters(), lr=0.005, weight_decay=5e-4)\n",
    "\n",
    "# Placeholder features if the graph has no node features\n",
    "if data.x is None:\n",
    "    data.x = torch.ones((data.num_nodes, 1))"
   ]
  },
  {
   "cell_type": "code",
   "execution_count": 8,
   "metadata": {},
   "outputs": [],
   "source": [
    "def train():\n",
    "    model.train()\n",
    "    optimizer.zero_grad()\n",
    "    z = model.encode(data.x, data.train_pos_edge_index)\n",
    "    pos_weight = torch.tensor(data.num_nodes ** 2 / data.train_pos_edge_index.size(1)).float()\n",
    "    loss = model.recon_loss(z, data.train_pos_edge_index, pos_weight=pos_weight)\n",
    "    loss += (1 / data.num_nodes) * model.kl_loss()\n",
    "    loss.backward()\n",
    "    optimizer.step()\n",
    "    return loss.item()\n",
    "\n",
    "def test():\n",
    "    model.eval()\n",
    "    with torch.no_grad():\n",
    "        z = model.encode(data.x, data.train_pos_edge_index)\n",
    "    auc, ap = model.test(z, data.test_pos_edge_index, data.test_neg_edge_index)\n",
    "    return auc, ap"
   ]
  },
  {
   "cell_type": "code",
   "execution_count": null,
   "metadata": {},
   "outputs": [],
   "source": [
    "epochs = 200\n",
    "train_losses = []\n",
    "auc_scores = []\n",
    "\n",
    "for epoch in range(1, epochs + 1):\n",
    "    train_loss = train()\n",
    "    auc, ap = test()\n",
    "    train_losses.append(train_loss)\n",
    "    auc_scores.append(auc)\n",
    "\n",
    "    if epoch % 10 == 0:\n",
    "        print(f\"Epoch {epoch:03d}, Loss: {train_loss:.4f}, AUC: {auc:.4f}, AP: {ap:.4f}\")\n"
   ]
  },
  {
   "cell_type": "code",
   "execution_count": null,
   "metadata": {},
   "outputs": [],
   "source": [
    "plt.figure(figsize=(10, 5))\n",
    "plt.subplot(1, 2, 1)\n",
    "plt.plot(range(1, epochs + 1), train_losses, label=\"Train Loss\", marker=\"o\")\n",
    "plt.xlabel(\"Epoch\")\n",
    "plt.ylabel(\"Loss\")\n",
    "plt.title(\"Training Loss\")\n",
    "plt.grid()\n",
    "plt.legend()\n",
    "\n",
    "plt.subplot(1, 2, 2)\n",
    "plt.plot(range(1, epochs + 1), auc_scores, label=\"AUC\", marker=\"o\", color=\"orange\")\n",
    "plt.xlabel(\"Epoch\")\n",
    "plt.ylabel(\"AUC\")\n",
    "plt.title(\"AUC Score\")\n",
    "plt.grid()\n",
    "plt.legend()\n",
    "\n",
    "plt.tight_layout()\n",
    "plt.show()"
   ]
  },
  {
   "cell_type": "code",
   "execution_count": null,
   "metadata": {},
   "outputs": [],
   "source": []
  }
 ],
 "metadata": {
  "kernelspec": {
   "display_name": "pytorch_audio",
   "language": "python",
   "name": "python3"
  },
  "language_info": {
   "codemirror_mode": {
    "name": "ipython",
    "version": 3
   },
   "file_extension": ".py",
   "mimetype": "text/x-python",
   "name": "python",
   "nbconvert_exporter": "python",
   "pygments_lexer": "ipython3",
   "version": "3.12.3"
  }
 },
 "nbformat": 4,
 "nbformat_minor": 2
}
