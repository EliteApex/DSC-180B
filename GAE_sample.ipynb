{
 "cells": [
  {
   "cell_type": "code",
   "execution_count": 1,
   "id": "a19c4586-0755-435c-9461-829319cc6c60",
   "metadata": {},
   "outputs": [],
   "source": [
    "import pandas as pd\n",
    "import numpy as np"
   ]
  },
  {
   "cell_type": "code",
   "execution_count": 2,
   "id": "90f4c89f-ebee-4b2c-b85f-aef25ffea1f8",
   "metadata": {},
   "outputs": [],
   "source": [
    "sample_data = pd.read_csv('filtered_PPI.csv')"
   ]
  },
  {
   "cell_type": "code",
   "execution_count": 3,
   "id": "7b7163c6-2df5-4ca7-ab53-3c8edb91a409",
   "metadata": {},
   "outputs": [
    {
     "data": {
      "text/html": [
       "<div>\n",
       "<style scoped>\n",
       "    .dataframe tbody tr th:only-of-type {\n",
       "        vertical-align: middle;\n",
       "    }\n",
       "\n",
       "    .dataframe tbody tr th {\n",
       "        vertical-align: top;\n",
       "    }\n",
       "\n",
       "    .dataframe thead th {\n",
       "        text-align: right;\n",
       "    }\n",
       "</style>\n",
       "<table border=\"1\" class=\"dataframe\">\n",
       "  <thead>\n",
       "    <tr style=\"text-align: right;\">\n",
       "      <th></th>\n",
       "      <th>protein1</th>\n",
       "      <th>protein2</th>\n",
       "      <th>combined_score</th>\n",
       "    </tr>\n",
       "  </thead>\n",
       "  <tbody>\n",
       "    <tr>\n",
       "      <th>0</th>\n",
       "      <td>5178</td>\n",
       "      <td>408617</td>\n",
       "      <td>194</td>\n",
       "    </tr>\n",
       "    <tr>\n",
       "      <th>1</th>\n",
       "      <td>5178</td>\n",
       "      <td>406674</td>\n",
       "      <td>333</td>\n",
       "    </tr>\n",
       "    <tr>\n",
       "      <th>2</th>\n",
       "      <td>5178</td>\n",
       "      <td>360293</td>\n",
       "      <td>184</td>\n",
       "    </tr>\n",
       "    <tr>\n",
       "      <th>3</th>\n",
       "      <td>5178</td>\n",
       "      <td>75120</td>\n",
       "      <td>369</td>\n",
       "    </tr>\n",
       "    <tr>\n",
       "      <th>4</th>\n",
       "      <td>5178</td>\n",
       "      <td>437621</td>\n",
       "      <td>178</td>\n",
       "    </tr>\n",
       "    <tr>\n",
       "      <th>...</th>\n",
       "      <td>...</td>\n",
       "      <td>...</td>\n",
       "      <td>...</td>\n",
       "    </tr>\n",
       "    <tr>\n",
       "      <th>32553</th>\n",
       "      <td>500934</td>\n",
       "      <td>320935</td>\n",
       "      <td>310</td>\n",
       "    </tr>\n",
       "    <tr>\n",
       "      <th>32554</th>\n",
       "      <td>500934</td>\n",
       "      <td>417182</td>\n",
       "      <td>202</td>\n",
       "    </tr>\n",
       "    <tr>\n",
       "      <th>32555</th>\n",
       "      <td>500934</td>\n",
       "      <td>351697</td>\n",
       "      <td>191</td>\n",
       "    </tr>\n",
       "    <tr>\n",
       "      <th>32556</th>\n",
       "      <td>500934</td>\n",
       "      <td>379895</td>\n",
       "      <td>161</td>\n",
       "    </tr>\n",
       "    <tr>\n",
       "      <th>32557</th>\n",
       "      <td>500934</td>\n",
       "      <td>445043</td>\n",
       "      <td>356</td>\n",
       "    </tr>\n",
       "  </tbody>\n",
       "</table>\n",
       "<p>32558 rows × 3 columns</p>\n",
       "</div>"
      ],
      "text/plain": [
       "       protein1  protein2  combined_score\n",
       "0          5178    408617             194\n",
       "1          5178    406674             333\n",
       "2          5178    360293             184\n",
       "3          5178     75120             369\n",
       "4          5178    437621             178\n",
       "...         ...       ...             ...\n",
       "32553    500934    320935             310\n",
       "32554    500934    417182             202\n",
       "32555    500934    351697             191\n",
       "32556    500934    379895             161\n",
       "32557    500934    445043             356\n",
       "\n",
       "[32558 rows x 3 columns]"
      ]
     },
     "execution_count": 3,
     "metadata": {},
     "output_type": "execute_result"
    }
   ],
   "source": [
    "sample_data"
   ]
  },
  {
   "cell_type": "code",
   "execution_count": null,
   "id": "74481fde-a140-4b69-9ad8-4d4373c12f89",
   "metadata": {},
   "outputs": [
    {
     "name": "stdout",
     "output_type": "stream",
     "text": [
      "Loaded data!\n",
      "Epoch 1, Loss: 17886.02734375\n",
      "Epoch 2, Loss: 23243.20703125\n",
      "Epoch 3, Loss: 16550.97265625\n",
      "Epoch 4, Loss: 17786.908203125\n",
      "Epoch 5, Loss: 17865.8828125\n",
      "Epoch 6, Loss: 17675.75390625\n",
      "Epoch 7, Loss: 17252.1953125\n",
      "Epoch 8, Loss: 16699.4453125\n"
     ]
    }
   ],
   "source": [
    "%run src_customized/main.py # time pretty long"
   ]
  },
  {
   "cell_type": "code",
   "execution_count": null,
   "id": "b5a36aeb-b263-4e54-b89a-74b546284645",
   "metadata": {},
   "outputs": [],
   "source": []
  }
 ],
 "metadata": {
  "kernelspec": {
   "display_name": "Python (gcmerge)",
   "language": "python",
   "name": "gcmerge"
  },
  "language_info": {
   "codemirror_mode": {
    "name": "ipython",
    "version": 3
   },
   "file_extension": ".py",
   "mimetype": "text/x-python",
   "name": "python",
   "nbconvert_exporter": "python",
   "pygments_lexer": "ipython3",
   "version": "3.8.20"
  }
 },
 "nbformat": 4,
 "nbformat_minor": 5
}
