{
 "cells": [
  {
   "cell_type": "markdown",
   "metadata": {},
   "source": [
    "# EDA and Data Preprocessing"
   ]
  },
  {
   "cell_type": "code",
   "execution_count": 1,
   "metadata": {},
   "outputs": [],
   "source": [
    "import pandas as pd\n",
    "import numpy as np\n",
    "import matplotlib.pyplot as plt\n",
    "import seaborn as sns"
   ]
  },
  {
   "cell_type": "markdown",
   "metadata": {},
   "source": [
    "## Graph Structure"
   ]
  },
  {
   "cell_type": "markdown",
   "metadata": {},
   "source": [
    "\n",
    "### Nodes and Edges (PPI dataset)\n",
    "\n",
    "The Protein-Protein Interaction dataset and protein metadata dataset are obtained from the <a href=\"https://string-db.org/cgi/download?sessionId=bLtv7nEpZD9a&species_text=Homo+sapiens&settings_expanded=0&min_download_score=0&filter_redundant_pairs=0&delimiter_type=txt\">STRING</a> database."
   ]
  },
  {
   "cell_type": "markdown",
   "metadata": {},
   "source": [
    "#### Data Cleaning & EDA"
   ]
  },
  {
   "cell_type": "code",
   "execution_count": 2,
   "metadata": {},
   "outputs": [],
   "source": [
    "# data = pd.read_csv('../9606.protein.links.v12.0.txt', sep='\\t', names=['link_info'])\n",
    "# data = data.loc[1:]\n",
    "# data[['protein1', 'protein2', 'combined_score']] = data['link_info'].str.split(expand=True)\n",
    "# data.drop(columns=['link_info'], inplace=True)\n",
    "# data['combined_score'] = data['combined_score'].astype(int)\n",
    "# data['protein1'] = data['protein1'].apply(lambda x: x.replace(\"9606.\",\"\"))\n",
    "# data['protein2'] = data['protein2'].apply(lambda x: x.replace(\"9606.\",\"\"))\n",
    "# data.to_csv(\"../cleaned_PPI_full_name.csv\")"
   ]
  },
  {
   "cell_type": "code",
   "execution_count": 13,
   "metadata": {},
   "outputs": [],
   "source": [
    "# PPI data\n",
    "ppi_data = pd.read_csv('../cleaned_PPI_full_name.csv', index_col=0)"
   ]
  },
  {
   "cell_type": "markdown",
   "metadata": {},
   "source": [
    "The PPI dataset contains 3 columns after cleaning -- `protein1`, `protein2` and `combined_score` -- which store information about the proteins involved in an interaction and an assigned score that represents the interaction strength."
   ]
  },
  {
   "cell_type": "code",
   "execution_count": 4,
   "metadata": {},
   "outputs": [
    {
     "name": "stdout",
     "output_type": "stream",
     "text": [
      "<class 'pandas.core.frame.DataFrame'>\n",
      "Int64Index: 13715404 entries, 1 to 13715404\n",
      "Data columns (total 3 columns):\n",
      " #   Column          Dtype \n",
      "---  ------          ----- \n",
      " 0   protein1        object\n",
      " 1   protein2        object\n",
      " 2   combined_score  int64 \n",
      "dtypes: int64(1), object(2)\n",
      "memory usage: 418.6+ MB\n"
     ]
    }
   ],
   "source": [
    "ppi_data.info()"
   ]
  },
  {
   "cell_type": "code",
   "execution_count": null,
   "metadata": {},
   "outputs": [
    {
     "data": {
      "text/plain": [
       "268.6240444685406"
      ]
     },
     "execution_count": 5,
     "metadata": {},
     "output_type": "execute_result"
    }
   ],
   "source": [
    "ppi_data['combined_score'].mean()"
   ]
  },
  {
   "cell_type": "code",
   "execution_count": null,
   "metadata": {},
   "outputs": [
    {
     "data": {
      "image/png": "[encoded data removed]",
      "text/plain": [
       "<Figure size 640x480 with 1 Axes>"
      ]
     },
     "metadata": {},
     "output_type": "display_data"
    }
   ],
   "source": [
    "plt.hist(ppi_data['combined_score'],bins=30)\n",
    "plt.title(\"Distribution of PPI scores\")\n",
    "plt.show()"
   ]
  },
  {
   "cell_type": "markdown",
   "metadata": {},
   "source": [
    "To reduce the data size and focus on only high-confidence interactions, we threshold the PPI dataset to only keep the top 5% scored interactions."
   ]
  },
  {
   "cell_type": "code",
   "execution_count": 66,
   "metadata": {},
   "outputs": [
    {
     "data": {
      "text/plain": [
       "611.0"
      ]
     },
     "execution_count": 66,
     "metadata": {},
     "output_type": "execute_result"
    }
   ],
   "source": [
    "# select threshold\n",
    "threshold = np.percentile(ppi_data['combined_score'], 95)\n",
    "threshold"
   ]
  },
  {
   "cell_type": "code",
   "execution_count": 68,
   "metadata": {},
   "outputs": [
    {
     "data": {
      "text/plain": [
       "(687742, 3)"
      ]
     },
     "execution_count": 68,
     "metadata": {},
     "output_type": "execute_result"
    }
   ],
   "source": [
    "# threshold\n",
    "filtered_ppi_data = ppi_data[ppi_data['combined_score'] >= threshold]\n",
    "filtered_ppi_data.shape"
   ]
  },
  {
   "cell_type": "markdown",
   "metadata": {},
   "source": [
    "## Node Features"
   ]
  },
  {
   "cell_type": "markdown",
   "metadata": {},
   "source": [
    "### RNA-seq data\n",
    "\n",
    "The RNA-seq data is obtained from <a href=\"https://www.proteinatlas.org/humanproteome/tissue/data#gtex_tissue_groups_rna\">the Human Protein Atlas</a>, and contains transcript expression levels from RNA seq summarized per gene in 35 tissues based on 46 tissue subtypes and in the individual tissue subtypes. The data is obtained from GTEx."
   ]
  },
  {
   "cell_type": "markdown",
   "metadata": {},
   "source": [
    "#### EDA"
   ]
  },
  {
   "cell_type": "code",
   "execution_count": 69,
   "metadata": {},
   "outputs": [],
   "source": [
    "rna_df = pd.read_csv('rna_tissue_gtex.tsv', sep='\\t')"
   ]
  },
  {
   "cell_type": "code",
   "execution_count": 70,
   "metadata": {},
   "outputs": [
    {
     "data": {
      "text/html": [
       "<div>\n",
       "<style scoped>\n",
       "    .dataframe tbody tr th:only-of-type {\n",
       "        vertical-align: middle;\n",
       "    }\n",
       "\n",
       "    .dataframe tbody tr th {\n",
       "        vertical-align: top;\n",
       "    }\n",
       "\n",
       "    .dataframe thead th {\n",
       "        text-align: right;\n",
       "    }\n",
       "</style>\n",
       "<table border=\"1\" class=\"dataframe\">\n",
       "  <thead>\n",
       "    <tr style=\"text-align: right;\">\n",
       "      <th></th>\n",
       "      <th>Gene</th>\n",
       "      <th>Gene name</th>\n",
       "      <th>Tissue</th>\n",
       "      <th>TPM</th>\n",
       "      <th>pTPM</th>\n",
       "      <th>nTPM</th>\n",
       "    </tr>\n",
       "  </thead>\n",
       "  <tbody>\n",
       "    <tr>\n",
       "      <th>0</th>\n",
       "      <td>ENSG00000000003</td>\n",
       "      <td>TSPAN6</td>\n",
       "      <td>adipose tissue</td>\n",
       "      <td>28.7</td>\n",
       "      <td>35.6</td>\n",
       "      <td>28.6</td>\n",
       "    </tr>\n",
       "    <tr>\n",
       "      <th>1</th>\n",
       "      <td>ENSG00000000003</td>\n",
       "      <td>TSPAN6</td>\n",
       "      <td>adrenal gland</td>\n",
       "      <td>15.2</td>\n",
       "      <td>18.4</td>\n",
       "      <td>17.6</td>\n",
       "    </tr>\n",
       "    <tr>\n",
       "      <th>2</th>\n",
       "      <td>ENSG00000000003</td>\n",
       "      <td>TSPAN6</td>\n",
       "      <td>amygdala</td>\n",
       "      <td>7.2</td>\n",
       "      <td>9.1</td>\n",
       "      <td>13.0</td>\n",
       "    </tr>\n",
       "    <tr>\n",
       "      <th>3</th>\n",
       "      <td>ENSG00000000003</td>\n",
       "      <td>TSPAN6</td>\n",
       "      <td>basal ganglia</td>\n",
       "      <td>7.8</td>\n",
       "      <td>9.6</td>\n",
       "      <td>12.4</td>\n",
       "    </tr>\n",
       "    <tr>\n",
       "      <th>4</th>\n",
       "      <td>ENSG00000000003</td>\n",
       "      <td>TSPAN6</td>\n",
       "      <td>breast</td>\n",
       "      <td>32.5</td>\n",
       "      <td>40.8</td>\n",
       "      <td>33.0</td>\n",
       "    </tr>\n",
       "  </tbody>\n",
       "</table>\n",
       "</div>"
      ],
      "text/plain": [
       "              Gene Gene name          Tissue   TPM  pTPM  nTPM\n",
       "0  ENSG00000000003    TSPAN6  adipose tissue  28.7  35.6  28.6\n",
       "1  ENSG00000000003    TSPAN6   adrenal gland  15.2  18.4  17.6\n",
       "2  ENSG00000000003    TSPAN6        amygdala   7.2   9.1  13.0\n",
       "3  ENSG00000000003    TSPAN6   basal ganglia   7.8   9.6  12.4\n",
       "4  ENSG00000000003    TSPAN6          breast  32.5  40.8  33.0"
      ]
     },
     "execution_count": 70,
     "metadata": {},
     "output_type": "execute_result"
    }
   ],
   "source": [
    "rna_df.head()"
   ]
  },
  {
   "cell_type": "code",
   "execution_count": 71,
   "metadata": {},
   "outputs": [
    {
     "name": "stdout",
     "output_type": "stream",
     "text": [
      "<class 'pandas.core.frame.DataFrame'>\n",
      "RangeIndex: 675206 entries, 0 to 675205\n",
      "Data columns (total 6 columns):\n",
      " #   Column     Non-Null Count   Dtype  \n",
      "---  ------     --------------   -----  \n",
      " 0   Gene       675206 non-null  object \n",
      " 1   Gene name  675206 non-null  object \n",
      " 2   Tissue     675206 non-null  object \n",
      " 3   TPM        675206 non-null  float64\n",
      " 4   pTPM       675206 non-null  float64\n",
      " 5   nTPM       675206 non-null  float64\n",
      "dtypes: float64(3), object(3)\n",
      "memory usage: 30.9+ MB\n"
     ]
    }
   ],
   "source": [
    "rna_df.info()"
   ]
  },
  {
   "cell_type": "code",
   "execution_count": 72,
   "metadata": {},
   "outputs": [
    {
     "data": {
      "text/html": [
       "<div>\n",
       "<style scoped>\n",
       "    .dataframe tbody tr th:only-of-type {\n",
       "        vertical-align: middle;\n",
       "    }\n",
       "\n",
       "    .dataframe tbody tr th {\n",
       "        vertical-align: top;\n",
       "    }\n",
       "\n",
       "    .dataframe thead th {\n",
       "        text-align: right;\n",
       "    }\n",
       "</style>\n",
       "<table border=\"1\" class=\"dataframe\">\n",
       "  <thead>\n",
       "    <tr style=\"text-align: right;\">\n",
       "      <th></th>\n",
       "      <th>TPM</th>\n",
       "      <th>pTPM</th>\n",
       "      <th>nTPM</th>\n",
       "    </tr>\n",
       "  </thead>\n",
       "  <tbody>\n",
       "    <tr>\n",
       "      <th>count</th>\n",
       "      <td>675206.000000</td>\n",
       "      <td>675206.000000</td>\n",
       "      <td>675206.000000</td>\n",
       "    </tr>\n",
       "    <tr>\n",
       "      <th>mean</th>\n",
       "      <td>42.135715</td>\n",
       "      <td>53.171376</td>\n",
       "      <td>59.248355</td>\n",
       "    </tr>\n",
       "    <tr>\n",
       "      <th>std</th>\n",
       "      <td>747.153185</td>\n",
       "      <td>919.048568</td>\n",
       "      <td>1588.709947</td>\n",
       "    </tr>\n",
       "    <tr>\n",
       "      <th>min</th>\n",
       "      <td>0.000000</td>\n",
       "      <td>0.000000</td>\n",
       "      <td>0.000000</td>\n",
       "    </tr>\n",
       "    <tr>\n",
       "      <th>25%</th>\n",
       "      <td>0.400000</td>\n",
       "      <td>0.500000</td>\n",
       "      <td>0.400000</td>\n",
       "    </tr>\n",
       "    <tr>\n",
       "      <th>50%</th>\n",
       "      <td>4.200000</td>\n",
       "      <td>5.400000</td>\n",
       "      <td>5.000000</td>\n",
       "    </tr>\n",
       "    <tr>\n",
       "      <th>75%</th>\n",
       "      <td>15.300000</td>\n",
       "      <td>19.500000</td>\n",
       "      <td>17.200000</td>\n",
       "    </tr>\n",
       "    <tr>\n",
       "      <th>max</th>\n",
       "      <td>87660.200000</td>\n",
       "      <td>99788.700000</td>\n",
       "      <td>339891.800000</td>\n",
       "    </tr>\n",
       "  </tbody>\n",
       "</table>\n",
       "</div>"
      ],
      "text/plain": [
       "                 TPM           pTPM           nTPM\n",
       "count  675206.000000  675206.000000  675206.000000\n",
       "mean       42.135715      53.171376      59.248355\n",
       "std       747.153185     919.048568    1588.709947\n",
       "min         0.000000       0.000000       0.000000\n",
       "25%         0.400000       0.500000       0.400000\n",
       "50%         4.200000       5.400000       5.000000\n",
       "75%        15.300000      19.500000      17.200000\n",
       "max     87660.200000   99788.700000  339891.800000"
      ]
     },
     "execution_count": 72,
     "metadata": {},
     "output_type": "execute_result"
    }
   ],
   "source": [
    "rna_df.describe()"
   ]
  },
  {
   "cell_type": "code",
   "execution_count": 73,
   "metadata": {},
   "outputs": [
    {
     "name": "stdout",
     "output_type": "stream",
     "text": [
      "Missing Values:\n",
      " Gene         0\n",
      "Gene name    0\n",
      "Tissue       0\n",
      "TPM          0\n",
      "pTPM         0\n",
      "nTPM         0\n",
      "dtype: int64\n"
     ]
    }
   ],
   "source": [
    "missing_values = rna_df.isnull().sum()\n",
    "print(\"Missing Values:\\n\", missing_values)"
   ]
  },
  {
   "cell_type": "code",
   "execution_count": 74,
   "metadata": {},
   "outputs": [
    {
     "name": "stdout",
     "output_type": "stream",
     "text": [
      "Unique genes: 20162\n",
      "Unique tissues: 35\n"
     ]
    }
   ],
   "source": [
    "print(\"Unique genes:\", rna_df['Gene'].nunique())\n",
    "print(\"Unique tissues:\", rna_df['Tissue'].nunique())"
   ]
  },
  {
   "cell_type": "code",
   "execution_count": 28,
   "metadata": {},
   "outputs": [
    {
     "data": {
      "image/png": "[encoded data removed]",
      "text/plain": [
       "<Figure size 800x500 with 1 Axes>"
      ]
     },
     "metadata": {},
     "output_type": "display_data"
    },
    {
     "data": {
      "image/png": "[encoded data removed]",
      "text/plain": [
       "<Figure size 800x500 with 1 Axes>"
      ]
     },
     "metadata": {},
     "output_type": "display_data"
    }
   ],
   "source": [
    "# Histogram of TPM\n",
    "plt.figure(figsize=(8, 5))\n",
    "sns.histplot(rna_df['TPM'], bins=50, kde=True)\n",
    "plt.title('Distribution of TPM')\n",
    "plt.xlabel('TPM')\n",
    "plt.show()\n",
    "\n",
    "# Boxplot to check for outliers\n",
    "plt.figure(figsize=(8, 5))\n",
    "sns.boxplot(x=rna_df['TPM'])\n",
    "plt.title('Boxplot of TPM')\n",
    "plt.show()"
   ]
  },
  {
   "cell_type": "code",
   "execution_count": 30,
   "metadata": {},
   "outputs": [
    {
     "data": {
      "image/png": "[encoded data removed]",
      "text/plain": [
       "<Figure size 1000x600 with 1 Axes>"
      ]
     },
     "metadata": {},
     "output_type": "display_data"
    }
   ],
   "source": [
    "genes_per_tissue = rna_df.groupby('Tissue')['Gene'].nunique().sort_values(ascending=False)\n",
    "\n",
    "# Plot the number of genes in each tissue\n",
    "plt.figure(figsize=(10, 6))\n",
    "genes_per_tissue.plot(kind='bar', color='skyblue')\n",
    "plt.title('Number of Unique Genes in Each Tissue')\n",
    "plt.ylabel('Number of Genes')\n",
    "plt.xlabel('Tissue')\n",
    "plt.xticks(rotation=90)\n",
    "plt.show()"
   ]
  },
  {
   "cell_type": "code",
   "execution_count": 29,
   "metadata": {},
   "outputs": [
    {
     "name": "stdout",
     "output_type": "stream",
     "text": [
      "Tissue\n",
      "heart muscle             52.542370\n",
      "colon                    47.735145\n",
      "kidney                   47.043418\n",
      "cerebral cortex          46.594472\n",
      "basal ganglia            45.826799\n",
      "pancreas                 45.765374\n",
      "adipose tissue           45.636012\n",
      "skeletal muscle          44.912260\n",
      "skin                     44.217424\n",
      "liver                    43.918156\n",
      "cervix                   43.844872\n",
      "adrenal gland            42.599273\n",
      "stomach                  42.370788\n",
      "esophagus                42.215110\n",
      "midbrain                 41.716552\n",
      "hypothalamus             41.556960\n",
      "hippocampal formation    41.485591\n",
      "breast                   41.318639\n",
      "urinary bladder          41.293117\n",
      "cerebellum               41.276222\n",
      "amygdala                 41.252974\n",
      "spinal cord              41.210838\n",
      "endometrium              41.113703\n",
      "salivary gland           40.824639\n",
      "vagina                   40.812213\n",
      "small intestine          40.281984\n",
      "pituitary gland          40.279409\n",
      "fallopian tube           40.059063\n",
      "ovary                    39.928735\n",
      "prostate                 39.927686\n",
      "lung                     39.501329\n",
      "thyroid gland            38.596678\n",
      "testis                   38.175454\n",
      "spleen                   35.238342\n",
      "retina                   34.054256\n",
      "Name: TPM, dtype: float64\n"
     ]
    },
    {
     "data": {
      "image/png": "[encoded data removed]",
      "text/plain": [
       "<Figure size 1000x800 with 1 Axes>"
      ]
     },
     "metadata": {},
     "output_type": "display_data"
    }
   ],
   "source": [
    "tissue_mean_tpm = rna_df.groupby('Tissue')['TPM'].mean().sort_values(ascending=False)\n",
    "print(tissue_mean_tpm)\n",
    "\n",
    "plt.figure(figsize=(10, 8))\n",
    "tissue_mean_tpm.plot(kind='bar')\n",
    "plt.title('Mean TPM by Tissue')\n",
    "plt.ylabel('Mean TPM')\n",
    "plt.xticks(rotation=90)\n",
    "plt.show()"
   ]
  },
  {
   "cell_type": "markdown",
   "metadata": {},
   "source": [
    "#### Match RNA to Protein and Create Feature Matrix\n",
    "\n",
    "We utilize the `TPM` column as our feature for the nodes (proteins), which stands for \"Transcripts per Million\". These values are obtained by normalizing the transcript number by gene length and sequencing depth, so they are ready for us to use directly in the model. To match these values to the proteins, we first match the protein IDs with gene IDs using the package `pyensembl`."
   ]
  },
  {
   "cell_type": "code",
   "execution_count": null,
   "metadata": {},
   "outputs": [],
   "source": [
    "from pyensembl import EnsemblRelease\n",
    "match_data = EnsemblRelease(104)\n",
    "# match_data.download()\n",
    "# match_data.index()"
   ]
  },
  {
   "cell_type": "code",
   "execution_count": 19,
   "metadata": {},
   "outputs": [
    {
     "name": "stdout",
     "output_type": "stream",
     "text": [
      "Number of unique proteins: 19622\n"
     ]
    },
    {
     "data": {
      "text/plain": [
       "['ENSP00000360191',\n",
       " 'ENSP00000475939',\n",
       " 'ENSP00000448165',\n",
       " 'ENSP00000381148',\n",
       " 'ENSP00000363394',\n",
       " 'ENSP00000326598',\n",
       " 'ENSP00000375921',\n",
       " 'ENSP00000359240',\n",
       " 'ENSP00000488995',\n",
       " 'ENSP00000316605']"
      ]
     },
     "execution_count": 19,
     "metadata": {},
     "output_type": "execute_result"
    }
   ],
   "source": [
    "all_proteins = set(ppi_data['protein1']).union(set(ppi_data['protein2']))\n",
    "all_proteins = list(all_proteins)\n",
    "print(\"Number of unique proteins: \"+str(len(all_proteins)))\n",
    "all_proteins[:10]"
   ]
  },
  {
   "cell_type": "code",
   "execution_count": 22,
   "metadata": {},
   "outputs": [
    {
     "name": "stdout",
     "output_type": "stream",
     "text": [
      "Number of successfully mapped proteins: 19368\n",
      "Percentage of proteins with mappings: 98.71%\n"
     ]
    }
   ],
   "source": [
    "# Map protein id to gene id and skip unmapped protein id\n",
    "protein_to_gene = {}\n",
    "for protein in all_proteins:\n",
    "    try:\n",
    "        gene_id = data.gene_id_of_protein_id(protein)\n",
    "        protein_to_gene[protein] = gene_id\n",
    "    except ValueError:\n",
    "        continue\n",
    "\n",
    "print(f\"Number of successfully mapped proteins: {len(protein_to_gene)}\")\n",
    "print(f\"Percentage of proteins with mappings: {len(protein_to_gene) / len(all_proteins) * 100:.2f}%\")"
   ]
  },
  {
   "cell_type": "code",
   "execution_count": 27,
   "metadata": {},
   "outputs": [
    {
     "data": {
      "text/html": [
       "<div>\n",
       "<style scoped>\n",
       "    .dataframe tbody tr th:only-of-type {\n",
       "        vertical-align: middle;\n",
       "    }\n",
       "\n",
       "    .dataframe tbody tr th {\n",
       "        vertical-align: top;\n",
       "    }\n",
       "\n",
       "    .dataframe thead th {\n",
       "        text-align: right;\n",
       "    }\n",
       "</style>\n",
       "<table border=\"1\" class=\"dataframe\">\n",
       "  <thead>\n",
       "    <tr style=\"text-align: right;\">\n",
       "      <th></th>\n",
       "      <th>Gene</th>\n",
       "      <th>Tissue</th>\n",
       "      <th>TPM</th>\n",
       "    </tr>\n",
       "  </thead>\n",
       "  <tbody>\n",
       "    <tr>\n",
       "      <th>0</th>\n",
       "      <td>ENSG00000000003</td>\n",
       "      <td>adipose tissue</td>\n",
       "      <td>28.7</td>\n",
       "    </tr>\n",
       "    <tr>\n",
       "      <th>1</th>\n",
       "      <td>ENSG00000000003</td>\n",
       "      <td>adrenal gland</td>\n",
       "      <td>15.2</td>\n",
       "    </tr>\n",
       "    <tr>\n",
       "      <th>2</th>\n",
       "      <td>ENSG00000000003</td>\n",
       "      <td>amygdala</td>\n",
       "      <td>7.2</td>\n",
       "    </tr>\n",
       "    <tr>\n",
       "      <th>3</th>\n",
       "      <td>ENSG00000000003</td>\n",
       "      <td>basal ganglia</td>\n",
       "      <td>7.8</td>\n",
       "    </tr>\n",
       "    <tr>\n",
       "      <th>4</th>\n",
       "      <td>ENSG00000000003</td>\n",
       "      <td>breast</td>\n",
       "      <td>32.5</td>\n",
       "    </tr>\n",
       "  </tbody>\n",
       "</table>\n",
       "</div>"
      ],
      "text/plain": [
       "              Gene          Tissue   TPM\n",
       "0  ENSG00000000003  adipose tissue  28.7\n",
       "1  ENSG00000000003   adrenal gland  15.2\n",
       "2  ENSG00000000003        amygdala   7.2\n",
       "3  ENSG00000000003   basal ganglia   7.8\n",
       "4  ENSG00000000003          breast  32.5"
      ]
     },
     "execution_count": 27,
     "metadata": {},
     "output_type": "execute_result"
    }
   ],
   "source": [
    "rna_df = rna_df[['Gene','Tissue','TPM']] # keep necessary columns\n",
    "rna_df.head()"
   ]
  },
  {
   "cell_type": "code",
   "execution_count": 28,
   "metadata": {},
   "outputs": [
    {
     "data": {
      "text/plain": [
       "35"
      ]
     },
     "execution_count": 28,
     "metadata": {},
     "output_type": "execute_result"
    }
   ],
   "source": [
    "rna_df['Tissue'].nunique()"
   ]
  },
  {
   "cell_type": "code",
   "execution_count": 39,
   "metadata": {},
   "outputs": [
    {
     "data": {
      "text/html": [
       "<div>\n",
       "<style scoped>\n",
       "    .dataframe tbody tr th:only-of-type {\n",
       "        vertical-align: middle;\n",
       "    }\n",
       "\n",
       "    .dataframe tbody tr th {\n",
       "        vertical-align: top;\n",
       "    }\n",
       "\n",
       "    .dataframe thead th {\n",
       "        text-align: right;\n",
       "    }\n",
       "</style>\n",
       "<table border=\"1\" class=\"dataframe\">\n",
       "  <thead>\n",
       "    <tr style=\"text-align: right;\">\n",
       "      <th>Tissue</th>\n",
       "      <th>adipose tissue</th>\n",
       "      <th>adrenal gland</th>\n",
       "      <th>amygdala</th>\n",
       "      <th>basal ganglia</th>\n",
       "      <th>breast</th>\n",
       "      <th>cerebellum</th>\n",
       "      <th>cerebral cortex</th>\n",
       "      <th>cervix</th>\n",
       "      <th>colon</th>\n",
       "      <th>endometrium</th>\n",
       "      <th>...</th>\n",
       "      <th>skeletal muscle</th>\n",
       "      <th>skin</th>\n",
       "      <th>small intestine</th>\n",
       "      <th>spinal cord</th>\n",
       "      <th>spleen</th>\n",
       "      <th>stomach</th>\n",
       "      <th>testis</th>\n",
       "      <th>thyroid gland</th>\n",
       "      <th>urinary bladder</th>\n",
       "      <th>vagina</th>\n",
       "    </tr>\n",
       "    <tr>\n",
       "      <th>Gene</th>\n",
       "      <th></th>\n",
       "      <th></th>\n",
       "      <th></th>\n",
       "      <th></th>\n",
       "      <th></th>\n",
       "      <th></th>\n",
       "      <th></th>\n",
       "      <th></th>\n",
       "      <th></th>\n",
       "      <th></th>\n",
       "      <th></th>\n",
       "      <th></th>\n",
       "      <th></th>\n",
       "      <th></th>\n",
       "      <th></th>\n",
       "      <th></th>\n",
       "      <th></th>\n",
       "      <th></th>\n",
       "      <th></th>\n",
       "      <th></th>\n",
       "      <th></th>\n",
       "    </tr>\n",
       "  </thead>\n",
       "  <tbody>\n",
       "    <tr>\n",
       "      <th>ENSG00000000003</th>\n",
       "      <td>28.7</td>\n",
       "      <td>15.2</td>\n",
       "      <td>7.2</td>\n",
       "      <td>7.8</td>\n",
       "      <td>32.5</td>\n",
       "      <td>2.7</td>\n",
       "      <td>5.7</td>\n",
       "      <td>30.4</td>\n",
       "      <td>31.7</td>\n",
       "      <td>24.8</td>\n",
       "      <td>...</td>\n",
       "      <td>2.1</td>\n",
       "      <td>9.2</td>\n",
       "      <td>16.3</td>\n",
       "      <td>6.0</td>\n",
       "      <td>8.4</td>\n",
       "      <td>9.4</td>\n",
       "      <td>97.1</td>\n",
       "      <td>18.9</td>\n",
       "      <td>26.3</td>\n",
       "      <td>24.7</td>\n",
       "    </tr>\n",
       "    <tr>\n",
       "      <th>ENSG00000000005</th>\n",
       "      <td>20.8</td>\n",
       "      <td>0.0</td>\n",
       "      <td>0.1</td>\n",
       "      <td>0.0</td>\n",
       "      <td>11.7</td>\n",
       "      <td>0.0</td>\n",
       "      <td>0.1</td>\n",
       "      <td>0.1</td>\n",
       "      <td>0.5</td>\n",
       "      <td>0.1</td>\n",
       "      <td>...</td>\n",
       "      <td>1.6</td>\n",
       "      <td>3.1</td>\n",
       "      <td>0.4</td>\n",
       "      <td>0.0</td>\n",
       "      <td>0.1</td>\n",
       "      <td>0.1</td>\n",
       "      <td>0.1</td>\n",
       "      <td>0.2</td>\n",
       "      <td>0.2</td>\n",
       "      <td>0.2</td>\n",
       "    </tr>\n",
       "    <tr>\n",
       "      <th>ENSG00000000419</th>\n",
       "      <td>33.4</td>\n",
       "      <td>38.2</td>\n",
       "      <td>12.4</td>\n",
       "      <td>15.0</td>\n",
       "      <td>33.6</td>\n",
       "      <td>24.3</td>\n",
       "      <td>21.4</td>\n",
       "      <td>35.6</td>\n",
       "      <td>31.1</td>\n",
       "      <td>38.9</td>\n",
       "      <td>...</td>\n",
       "      <td>26.3</td>\n",
       "      <td>30.0</td>\n",
       "      <td>29.7</td>\n",
       "      <td>15.5</td>\n",
       "      <td>33.6</td>\n",
       "      <td>25.4</td>\n",
       "      <td>42.5</td>\n",
       "      <td>34.4</td>\n",
       "      <td>32.8</td>\n",
       "      <td>34.6</td>\n",
       "    </tr>\n",
       "    <tr>\n",
       "      <th>ENSG00000000457</th>\n",
       "      <td>5.5</td>\n",
       "      <td>4.3</td>\n",
       "      <td>1.5</td>\n",
       "      <td>1.7</td>\n",
       "      <td>6.7</td>\n",
       "      <td>5.2</td>\n",
       "      <td>2.3</td>\n",
       "      <td>7.8</td>\n",
       "      <td>5.5</td>\n",
       "      <td>6.5</td>\n",
       "      <td>...</td>\n",
       "      <td>3.6</td>\n",
       "      <td>6.9</td>\n",
       "      <td>5.5</td>\n",
       "      <td>2.3</td>\n",
       "      <td>5.8</td>\n",
       "      <td>3.9</td>\n",
       "      <td>6.5</td>\n",
       "      <td>7.3</td>\n",
       "      <td>7.8</td>\n",
       "      <td>6.8</td>\n",
       "    </tr>\n",
       "    <tr>\n",
       "      <th>ENSG00000000460</th>\n",
       "      <td>1.8</td>\n",
       "      <td>0.9</td>\n",
       "      <td>0.4</td>\n",
       "      <td>0.4</td>\n",
       "      <td>1.7</td>\n",
       "      <td>3.4</td>\n",
       "      <td>0.6</td>\n",
       "      <td>2.1</td>\n",
       "      <td>1.4</td>\n",
       "      <td>1.8</td>\n",
       "      <td>...</td>\n",
       "      <td>0.4</td>\n",
       "      <td>1.7</td>\n",
       "      <td>1.5</td>\n",
       "      <td>1.0</td>\n",
       "      <td>1.7</td>\n",
       "      <td>0.9</td>\n",
       "      <td>8.5</td>\n",
       "      <td>1.6</td>\n",
       "      <td>1.6</td>\n",
       "      <td>1.8</td>\n",
       "    </tr>\n",
       "  </tbody>\n",
       "</table>\n",
       "<p>5 rows × 35 columns</p>\n",
       "</div>"
      ],
      "text/plain": [
       "Tissue           adipose tissue  adrenal gland  amygdala  basal ganglia  \\\n",
       "Gene                                                                      \n",
       "ENSG00000000003            28.7           15.2       7.2            7.8   \n",
       "ENSG00000000005            20.8            0.0       0.1            0.0   \n",
       "ENSG00000000419            33.4           38.2      12.4           15.0   \n",
       "ENSG00000000457             5.5            4.3       1.5            1.7   \n",
       "ENSG00000000460             1.8            0.9       0.4            0.4   \n",
       "\n",
       "Tissue           breast  cerebellum  cerebral cortex  cervix  colon  \\\n",
       "Gene                                                                  \n",
       "ENSG00000000003    32.5         2.7              5.7    30.4   31.7   \n",
       "ENSG00000000005    11.7         0.0              0.1     0.1    0.5   \n",
       "ENSG00000000419    33.6        24.3             21.4    35.6   31.1   \n",
       "ENSG00000000457     6.7         5.2              2.3     7.8    5.5   \n",
       "ENSG00000000460     1.7         3.4              0.6     2.1    1.4   \n",
       "\n",
       "Tissue           endometrium  ...  skeletal muscle  skin  small intestine  \\\n",
       "Gene                          ...                                           \n",
       "ENSG00000000003         24.8  ...              2.1   9.2             16.3   \n",
       "ENSG00000000005          0.1  ...              1.6   3.1              0.4   \n",
       "ENSG00000000419         38.9  ...             26.3  30.0             29.7   \n",
       "ENSG00000000457          6.5  ...              3.6   6.9              5.5   \n",
       "ENSG00000000460          1.8  ...              0.4   1.7              1.5   \n",
       "\n",
       "Tissue           spinal cord  spleen  stomach  testis  thyroid gland  \\\n",
       "Gene                                                                   \n",
       "ENSG00000000003          6.0     8.4      9.4    97.1           18.9   \n",
       "ENSG00000000005          0.0     0.1      0.1     0.1            0.2   \n",
       "ENSG00000000419         15.5    33.6     25.4    42.5           34.4   \n",
       "ENSG00000000457          2.3     5.8      3.9     6.5            7.3   \n",
       "ENSG00000000460          1.0     1.7      0.9     8.5            1.6   \n",
       "\n",
       "Tissue           urinary bladder  vagina  \n",
       "Gene                                      \n",
       "ENSG00000000003             26.3    24.7  \n",
       "ENSG00000000005              0.2     0.2  \n",
       "ENSG00000000419             32.8    34.6  \n",
       "ENSG00000000457              7.8     6.8  \n",
       "ENSG00000000460              1.6     1.8  \n",
       "\n",
       "[5 rows x 35 columns]"
      ]
     },
     "execution_count": 39,
     "metadata": {},
     "output_type": "execute_result"
    }
   ],
   "source": [
    "gene_tissue_pivot = rna_df.pivot_table(\n",
    "    index='Gene',       \n",
    "    columns='Tissue',   \n",
    "    values='TPM',       \n",
    "    aggfunc='mean'      # In case of duplicates, use the mean value\n",
    ")\n",
    "gene_tissue_pivot.head()"
   ]
  },
  {
   "cell_type": "code",
   "execution_count": 41,
   "metadata": {},
   "outputs": [
    {
     "data": {
      "text/plain": [
       "Tissue\n",
       "adipose tissue           896\n",
       "adrenal gland            896\n",
       "amygdala                 896\n",
       "basal ganglia            896\n",
       "breast                   896\n",
       "cerebellum               896\n",
       "cerebral cortex          896\n",
       "cervix                   896\n",
       "colon                    896\n",
       "endometrium              896\n",
       "esophagus                896\n",
       "fallopian tube           896\n",
       "heart muscle             896\n",
       "hippocampal formation    896\n",
       "hypothalamus             896\n",
       "kidney                   896\n",
       "liver                    896\n",
       "lung                     896\n",
       "midbrain                 896\n",
       "ovary                    896\n",
       "pancreas                 896\n",
       "pituitary gland          896\n",
       "prostate                 896\n",
       "retina                     0\n",
       "salivary gland           896\n",
       "skeletal muscle          896\n",
       "skin                     896\n",
       "small intestine          896\n",
       "spinal cord              896\n",
       "spleen                   896\n",
       "stomach                  896\n",
       "testis                   896\n",
       "thyroid gland            896\n",
       "urinary bladder          896\n",
       "vagina                   896\n",
       "dtype: int64"
      ]
     },
     "execution_count": 41,
     "metadata": {},
     "output_type": "execute_result"
    }
   ],
   "source": [
    "gene_tissue_pivot.isna().sum()"
   ]
  },
  {
   "cell_type": "code",
   "execution_count": null,
   "metadata": {},
   "outputs": [],
   "source": [
    "gene_tissue_pivot.dropna(inplace=True) # drop the 896 genes that have little available data"
   ]
  },
  {
   "cell_type": "code",
   "execution_count": 47,
   "metadata": {},
   "outputs": [],
   "source": [
    "gene_tissue_pivot.reset_index(inplace=True)"
   ]
  },
  {
   "cell_type": "code",
   "execution_count": 48,
   "metadata": {},
   "outputs": [
    {
     "data": {
      "text/plain": [
       "(19266, 36)"
      ]
     },
     "execution_count": 48,
     "metadata": {},
     "output_type": "execute_result"
    }
   ],
   "source": [
    "gene_tissue_pivot.shape"
   ]
  },
  {
   "cell_type": "code",
   "execution_count": 212,
   "metadata": {},
   "outputs": [],
   "source": [
    "protein_gene_conversion = pd.DataFrame(protein_to_gene.keys(),protein_to_gene.values()).reset_index()"
   ]
  },
  {
   "cell_type": "code",
   "execution_count": null,
   "metadata": {},
   "outputs": [],
   "source": [
    "protein_gene_conversion.columns = ['Gene', 'Protein']\n",
    "\n",
    "protein_gene_conversion.to_csv('Data/protein_gene_conversion.csv', index=False)"
   ]
  },
  {
   "cell_type": "code",
   "execution_count": 218,
   "metadata": {},
   "outputs": [
    {
     "data": {
      "text/plain": [
       "(19266, 36)"
      ]
     },
     "execution_count": 218,
     "metadata": {},
     "output_type": "execute_result"
    }
   ],
   "source": [
    "gene_tissue_pivot.shape"
   ]
  },
  {
   "cell_type": "code",
   "execution_count": 222,
   "metadata": {},
   "outputs": [],
   "source": [
    "match_feature_mat = gene_tissue_pivot.merge(protein_gene_conversion, on='Gene', how='right')"
   ]
  },
  {
   "cell_type": "code",
   "execution_count": 231,
   "metadata": {},
   "outputs": [
    {
     "name": "stdout",
     "output_type": "stream",
     "text": [
      "Number of unmatched proteins: 280\n"
     ]
    }
   ],
   "source": [
    "print(f\"Number of unmatched proteins: {match_feature_mat.amygdala.isna().sum()}\")"
   ]
  },
  {
   "cell_type": "code",
   "execution_count": 233,
   "metadata": {},
   "outputs": [],
   "source": [
    "match_feature_mat = match_feature_mat.dropna().drop(columns = ['Gene'])"
   ]
  },
  {
   "cell_type": "code",
   "execution_count": 242,
   "metadata": {},
   "outputs": [],
   "source": [
    "# adjust column order\n",
    "match_feature_mat = match_feature_mat[['Protein']+list(match_feature_mat.columns[:-1])]"
   ]
  },
  {
   "cell_type": "code",
   "execution_count": 243,
   "metadata": {},
   "outputs": [
    {
     "name": "stdout",
     "output_type": "stream",
     "text": [
      "Feature matrix created for 19088 proteins.\n"
     ]
    }
   ],
   "source": [
    "print(f\"Feature matrix created for {match_feature_mat.shape[0]} proteins.\")"
   ]
  },
  {
   "cell_type": "code",
   "execution_count": 244,
   "metadata": {},
   "outputs": [
    {
     "data": {
      "text/html": [
       "<div>\n",
       "<style scoped>\n",
       "    .dataframe tbody tr th:only-of-type {\n",
       "        vertical-align: middle;\n",
       "    }\n",
       "\n",
       "    .dataframe tbody tr th {\n",
       "        vertical-align: top;\n",
       "    }\n",
       "\n",
       "    .dataframe thead th {\n",
       "        text-align: right;\n",
       "    }\n",
       "</style>\n",
       "<table border=\"1\" class=\"dataframe\">\n",
       "  <thead>\n",
       "    <tr style=\"text-align: right;\">\n",
       "      <th></th>\n",
       "      <th>Protein</th>\n",
       "      <th>adipose tissue</th>\n",
       "      <th>adrenal gland</th>\n",
       "      <th>amygdala</th>\n",
       "      <th>basal ganglia</th>\n",
       "      <th>breast</th>\n",
       "      <th>cerebellum</th>\n",
       "      <th>cerebral cortex</th>\n",
       "      <th>cervix</th>\n",
       "      <th>colon</th>\n",
       "      <th>...</th>\n",
       "      <th>skeletal muscle</th>\n",
       "      <th>skin</th>\n",
       "      <th>small intestine</th>\n",
       "      <th>spinal cord</th>\n",
       "      <th>spleen</th>\n",
       "      <th>stomach</th>\n",
       "      <th>testis</th>\n",
       "      <th>thyroid gland</th>\n",
       "      <th>urinary bladder</th>\n",
       "      <th>vagina</th>\n",
       "    </tr>\n",
       "  </thead>\n",
       "  <tbody>\n",
       "    <tr>\n",
       "      <th>0</th>\n",
       "      <td>ENSP00000360191</td>\n",
       "      <td>0.3</td>\n",
       "      <td>0.1</td>\n",
       "      <td>0.0</td>\n",
       "      <td>0.0</td>\n",
       "      <td>1.8</td>\n",
       "      <td>0.5</td>\n",
       "      <td>0.0</td>\n",
       "      <td>2.2</td>\n",
       "      <td>1.0</td>\n",
       "      <td>...</td>\n",
       "      <td>0.1</td>\n",
       "      <td>0.7</td>\n",
       "      <td>0.2</td>\n",
       "      <td>0.0</td>\n",
       "      <td>0.0</td>\n",
       "      <td>0.3</td>\n",
       "      <td>0.0</td>\n",
       "      <td>0.0</td>\n",
       "      <td>4.6</td>\n",
       "      <td>0.6</td>\n",
       "    </tr>\n",
       "    <tr>\n",
       "      <th>1</th>\n",
       "      <td>ENSP00000475939</td>\n",
       "      <td>0.1</td>\n",
       "      <td>1.5</td>\n",
       "      <td>0.1</td>\n",
       "      <td>0.2</td>\n",
       "      <td>0.0</td>\n",
       "      <td>0.0</td>\n",
       "      <td>0.0</td>\n",
       "      <td>0.6</td>\n",
       "      <td>0.0</td>\n",
       "      <td>...</td>\n",
       "      <td>0.1</td>\n",
       "      <td>0.3</td>\n",
       "      <td>0.2</td>\n",
       "      <td>0.0</td>\n",
       "      <td>0.0</td>\n",
       "      <td>0.1</td>\n",
       "      <td>0.4</td>\n",
       "      <td>1.1</td>\n",
       "      <td>0.0</td>\n",
       "      <td>0.1</td>\n",
       "    </tr>\n",
       "    <tr>\n",
       "      <th>2</th>\n",
       "      <td>ENSP00000448165</td>\n",
       "      <td>4.1</td>\n",
       "      <td>2.0</td>\n",
       "      <td>2.9</td>\n",
       "      <td>3.5</td>\n",
       "      <td>3.9</td>\n",
       "      <td>7.4</td>\n",
       "      <td>4.8</td>\n",
       "      <td>5.4</td>\n",
       "      <td>4.4</td>\n",
       "      <td>...</td>\n",
       "      <td>1.6</td>\n",
       "      <td>3.2</td>\n",
       "      <td>4.9</td>\n",
       "      <td>3.9</td>\n",
       "      <td>6.7</td>\n",
       "      <td>2.2</td>\n",
       "      <td>2.8</td>\n",
       "      <td>4.3</td>\n",
       "      <td>3.9</td>\n",
       "      <td>4.1</td>\n",
       "    </tr>\n",
       "    <tr>\n",
       "      <th>3</th>\n",
       "      <td>ENSP00000381148</td>\n",
       "      <td>84.6</td>\n",
       "      <td>68.7</td>\n",
       "      <td>23.4</td>\n",
       "      <td>28.0</td>\n",
       "      <td>81.3</td>\n",
       "      <td>85.7</td>\n",
       "      <td>30.6</td>\n",
       "      <td>101.3</td>\n",
       "      <td>105.5</td>\n",
       "      <td>...</td>\n",
       "      <td>40.8</td>\n",
       "      <td>77.8</td>\n",
       "      <td>72.8</td>\n",
       "      <td>34.8</td>\n",
       "      <td>67.3</td>\n",
       "      <td>64.1</td>\n",
       "      <td>42.6</td>\n",
       "      <td>80.2</td>\n",
       "      <td>89.3</td>\n",
       "      <td>75.4</td>\n",
       "    </tr>\n",
       "    <tr>\n",
       "      <th>4</th>\n",
       "      <td>ENSP00000363394</td>\n",
       "      <td>0.1</td>\n",
       "      <td>1.0</td>\n",
       "      <td>0.0</td>\n",
       "      <td>0.0</td>\n",
       "      <td>0.5</td>\n",
       "      <td>0.0</td>\n",
       "      <td>0.1</td>\n",
       "      <td>0.2</td>\n",
       "      <td>0.1</td>\n",
       "      <td>...</td>\n",
       "      <td>1.9</td>\n",
       "      <td>0.6</td>\n",
       "      <td>0.4</td>\n",
       "      <td>0.0</td>\n",
       "      <td>0.0</td>\n",
       "      <td>0.1</td>\n",
       "      <td>0.3</td>\n",
       "      <td>11.7</td>\n",
       "      <td>0.6</td>\n",
       "      <td>0.0</td>\n",
       "    </tr>\n",
       "  </tbody>\n",
       "</table>\n",
       "<p>5 rows × 36 columns</p>\n",
       "</div>"
      ],
      "text/plain": [
       "           Protein  adipose tissue  adrenal gland  amygdala  basal ganglia  \\\n",
       "0  ENSP00000360191             0.3            0.1       0.0            0.0   \n",
       "1  ENSP00000475939             0.1            1.5       0.1            0.2   \n",
       "2  ENSP00000448165             4.1            2.0       2.9            3.5   \n",
       "3  ENSP00000381148            84.6           68.7      23.4           28.0   \n",
       "4  ENSP00000363394             0.1            1.0       0.0            0.0   \n",
       "\n",
       "   breast  cerebellum  cerebral cortex  cervix  colon  ...  skeletal muscle  \\\n",
       "0     1.8         0.5              0.0     2.2    1.0  ...              0.1   \n",
       "1     0.0         0.0              0.0     0.6    0.0  ...              0.1   \n",
       "2     3.9         7.4              4.8     5.4    4.4  ...              1.6   \n",
       "3    81.3        85.7             30.6   101.3  105.5  ...             40.8   \n",
       "4     0.5         0.0              0.1     0.2    0.1  ...              1.9   \n",
       "\n",
       "   skin  small intestine  spinal cord  spleen  stomach  testis  thyroid gland  \\\n",
       "0   0.7              0.2          0.0     0.0      0.3     0.0            0.0   \n",
       "1   0.3              0.2          0.0     0.0      0.1     0.4            1.1   \n",
       "2   3.2              4.9          3.9     6.7      2.2     2.8            4.3   \n",
       "3  77.8             72.8         34.8    67.3     64.1    42.6           80.2   \n",
       "4   0.6              0.4          0.0     0.0      0.1     0.3           11.7   \n",
       "\n",
       "   urinary bladder  vagina  \n",
       "0              4.6     0.6  \n",
       "1              0.0     0.1  \n",
       "2              3.9     4.1  \n",
       "3             89.3    75.4  \n",
       "4              0.6     0.0  \n",
       "\n",
       "[5 rows x 36 columns]"
      ]
     },
     "execution_count": 244,
     "metadata": {},
     "output_type": "execute_result"
    }
   ],
   "source": [
    "match_feature_mat.head()"
   ]
  },
  {
   "cell_type": "markdown",
   "metadata": {},
   "source": [
    "Now that we have the RNA-seq TPM feature matrix for the genes corresponding to the proteins (nodes) in the tissues, we proceed to get 10 principle components for the feature matrix to reduce dimensionality."
   ]
  },
  {
   "cell_type": "code",
   "execution_count": 76,
   "metadata": {},
   "outputs": [],
   "source": [
    "from sklearn.decomposition import PCA\n",
    "from sklearn.preprocessing import StandardScaler"
   ]
  },
  {
   "cell_type": "code",
   "execution_count": 194,
   "metadata": {},
   "outputs": [],
   "source": [
    "def get_pc(mat, num=10):\n",
    "    scaler = StandardScaler()\n",
    "    df_scaled = scaler.fit_transform(mat)\n",
    "    pca = PCA(n_components=num)  \n",
    "    principal_components = pca.fit_transform(df_scaled)\n",
    "    return principal_components, pca"
   ]
  },
  {
   "cell_type": "code",
   "execution_count": 195,
   "metadata": {},
   "outputs": [],
   "source": [
    "features_only = match_feature_mat.iloc[:,1:].values\n",
    "\n",
    "principal_components_rna, pca_rna = get_pc(features_only)"
   ]
  },
  {
   "cell_type": "code",
   "execution_count": 196,
   "metadata": {},
   "outputs": [
    {
     "name": "stdout",
     "output_type": "stream",
     "text": [
      "Explained variance ratio: [0.81998713 0.04013548 0.02737836 0.02037357 0.01771295 0.01366705\n",
      " 0.01215161 0.00784211 0.00567791 0.00528535]\n",
      "Cumulative explained variance: [0.81998713 0.86012261 0.88750097 0.90787453 0.92558748 0.93925453\n",
      " 0.95140614 0.95924825 0.96492616 0.97021151]\n"
     ]
    }
   ],
   "source": [
    "print(\"Explained variance ratio:\", pca_rna.explained_variance_ratio_)\n",
    "print(\"Cumulative explained variance:\", pca_rna.explained_variance_ratio_.cumsum())"
   ]
  },
  {
   "cell_type": "code",
   "execution_count": 197,
   "metadata": {},
   "outputs": [],
   "source": [
    "protein_keep = match_feature_mat['Protein']\n",
    "pc_df = pd.DataFrame(principal_components_rna)"
   ]
  },
  {
   "cell_type": "code",
   "execution_count": 198,
   "metadata": {},
   "outputs": [],
   "source": [
    "pc_df.index = protein_keep"
   ]
  },
  {
   "cell_type": "code",
   "execution_count": 91,
   "metadata": {},
   "outputs": [],
   "source": [
    "pc_df.to_csv(\"Data/PPI_RNA_seq_10PCs.csv\")"
   ]
  },
  {
   "cell_type": "code",
   "execution_count": 57,
   "metadata": {},
   "outputs": [],
   "source": [
    "match_feature_mat.to_csv(\"Data/PPI_RNA_seq_full.csv\", index=False)"
   ]
  },
  {
   "cell_type": "code",
   "execution_count": 60,
   "metadata": {},
   "outputs": [
    {
     "name": "stdout",
     "output_type": "stream",
     "text": [
      "Percentage of proteins after preprocessing with proper RNA feature: 0.97242890632963\n"
     ]
    }
   ],
   "source": [
    "print(\"Percentage of proteins after preprocessing with proper RNA feature: \" + str(match_feature_mat.shape[0]/(ppi_data['protein1'].nunique())))"
   ]
  },
  {
   "cell_type": "markdown",
   "metadata": {},
   "source": [
    "### Protein Expression"
   ]
  },
  {
   "cell_type": "code",
   "execution_count": 148,
   "metadata": {},
   "outputs": [],
   "source": [
    "protein_df = pd.read_csv('../normal_ihc_data.tsv', sep='\\t')"
   ]
  },
  {
   "cell_type": "markdown",
   "metadata": {},
   "source": [
    "#### Data Cleaning & EDA"
   ]
  },
  {
   "cell_type": "code",
   "execution_count": 149,
   "metadata": {},
   "outputs": [
    {
     "name": "stdout",
     "output_type": "stream",
     "text": [
      "<class 'pandas.core.frame.DataFrame'>\n",
      "RangeIndex: 1198185 entries, 0 to 1198184\n",
      "Data columns (total 7 columns):\n",
      " #   Column           Non-Null Count    Dtype \n",
      "---  ------           --------------    ----- \n",
      " 0   Gene             1198185 non-null  object\n",
      " 1   Gene name        1198185 non-null  object\n",
      " 2   Tissue           1196352 non-null  object\n",
      " 3   IHC tissue name  1196352 non-null  object\n",
      " 4   Cell type        1196352 non-null  object\n",
      " 5   Level            1196352 non-null  object\n",
      " 6   Reliability      1198185 non-null  object\n",
      "dtypes: object(7)\n",
      "memory usage: 64.0+ MB\n",
      "None\n",
      "                   Gene Gene name   Tissue IHC tissue name        Cell type  \\\n",
      "count           1198185   1198185  1196352         1196352          1196352   \n",
      "unique            15302     15296       57              63              148   \n",
      "top     ENSG00000157404    NPIPA9     Skin          Skin 1  glandular cells   \n",
      "freq                166       170    93523           64952           259573   \n",
      "\n",
      "               Level Reliability  \n",
      "count        1196352     1198185  \n",
      "unique             7           4  \n",
      "top     Not detected    Approved  \n",
      "freq          568117      461507  \n",
      "Gene                  0\n",
      "Gene name             0\n",
      "Tissue             1833\n",
      "IHC tissue name    1833\n",
      "Cell type          1833\n",
      "Level              1833\n",
      "Reliability           0\n",
      "dtype: int64\n"
     ]
    }
   ],
   "source": [
    "# Display basic information about the DataFrame\n",
    "print(protein_df.info())\n",
    "\n",
    "# Show summary statistics for numeric columns\n",
    "print(protein_df.describe())\n",
    "\n",
    "# Check for missing values in each column\n",
    "print(protein_df.isnull().sum())"
   ]
  },
  {
   "cell_type": "code",
   "execution_count": 102,
   "metadata": {},
   "outputs": [
    {
     "name": "stdout",
     "output_type": "stream",
     "text": [
      "Unique genes: 15302\n",
      "Unique tissues: 57\n",
      "Unique cell types: 148\n",
      "Unique levels: 7\n",
      "Unique reliability values: 4\n"
     ]
    }
   ],
   "source": [
    "print(\"Unique genes:\", protein_df['Gene'].nunique())\n",
    "print(\"Unique tissues:\", protein_df['Tissue'].nunique())\n",
    "print(\"Unique cell types:\", protein_df['Cell type'].nunique())\n",
    "print(\"Unique levels:\", protein_df['Level'].nunique())\n",
    "print(\"Unique reliability values:\", protein_df['Reliability'].nunique())"
   ]
  },
  {
   "cell_type": "code",
   "execution_count": 113,
   "metadata": {},
   "outputs": [
    {
     "name": "stdout",
     "output_type": "stream",
     "text": [
      "count       57.000000\n",
      "mean      8756.578947\n",
      "std       4548.184351\n",
      "min          1.000000\n",
      "25%      10806.000000\n",
      "50%      11108.000000\n",
      "75%      11139.000000\n",
      "max      11144.000000\n",
      "Name: Gene, dtype: float64\n"
     ]
    },
    {
     "data": {
      "image/png": "[encoded data removed]",
      "text/plain": [
       "<Figure size 1000x600 with 1 Axes>"
      ]
     },
     "metadata": {},
     "output_type": "display_data"
    }
   ],
   "source": [
    "# Number of genes expressed in each tissue\n",
    "tissue_gene_counts = protein_df.groupby('Tissue')['Gene'].nunique()\n",
    "print(tissue_gene_counts.describe())\n",
    "\n",
    "# Plot distribution of genes per tissue\n",
    "plt.figure(figsize=(10, 6))\n",
    "tissue_gene_counts.hist(bins=30)\n",
    "plt.title('Distribution of Genes per Tissue')\n",
    "plt.xlabel('Number of Genes')\n",
    "plt.ylabel('Number of Tissues')\n",
    "plt.show()"
   ]
  },
  {
   "cell_type": "code",
   "execution_count": 108,
   "metadata": {},
   "outputs": [
    {
     "data": {
      "image/png": "[encoded data removed]",
      "text/plain": [
       "<Figure size 640x480 with 1 Axes>"
      ]
     },
     "metadata": {},
     "output_type": "display_data"
    }
   ],
   "source": [
    "# Plot distribution of 'Level'\n",
    "sns.countplot(data=protein_df, x='Level', order=protein_df['Level'].value_counts().index)\n",
    "plt.title('Distribution of Levels')\n",
    "plt.show()"
   ]
  },
  {
   "cell_type": "code",
   "execution_count": 109,
   "metadata": {},
   "outputs": [
    {
     "data": {
      "image/png": "[encoded data removed]",
      "text/plain": [
       "<Figure size 640x480 with 1 Axes>"
      ]
     },
     "metadata": {},
     "output_type": "display_data"
    }
   ],
   "source": [
    "# Plot distribution of 'Reliability'\n",
    "sns.countplot(data=protein_df, x='Reliability', order=protein_df['Reliability'].value_counts().index)\n",
    "plt.title('Distribution of Reliability')\n",
    "plt.show()"
   ]
  },
  {
   "cell_type": "code",
   "execution_count": 110,
   "metadata": {},
   "outputs": [
    {
     "data": {
      "text/plain": [
       "Approved     0.385172\n",
       "Enhanced     0.324913\n",
       "Uncertain    0.154205\n",
       "Supported    0.135710\n",
       "Name: Reliability, dtype: float64"
      ]
     },
     "execution_count": 110,
     "metadata": {},
     "output_type": "execute_result"
    }
   ],
   "source": [
    "protein_df['Reliability'].value_counts()/protein_df.shape[0]"
   ]
  },
  {
   "cell_type": "markdown",
   "metadata": {},
   "source": [
    "We will store the measurements with a `Reliability` that is not \"uncertain\" levels of protein expression in another dataframe."
   ]
  },
  {
   "cell_type": "code",
   "execution_count": 162,
   "metadata": {},
   "outputs": [
    {
     "data": {
      "text/plain": [
       "0.8470566103990569"
      ]
     },
     "execution_count": 162,
     "metadata": {},
     "output_type": "execute_result"
    }
   ],
   "source": [
    "protein_df_reliable = protein_df[protein_df['Reliability']!='Uncertain']\n",
    "protein_df_reliable.shape[0]/protein_df.shape[0]"
   ]
  },
  {
   "cell_type": "markdown",
   "metadata": {},
   "source": [
    "We will also drop the proteins with missing tissue/cell type information."
   ]
  },
  {
   "cell_type": "code",
   "execution_count": 151,
   "metadata": {},
   "outputs": [
    {
     "data": {
      "text/plain": [
       "Gene                  0\n",
       "Gene name             0\n",
       "Tissue             1833\n",
       "IHC tissue name    1833\n",
       "Cell type          1833\n",
       "Level              1833\n",
       "Reliability           0\n",
       "dtype: int64"
      ]
     },
     "execution_count": 151,
     "metadata": {},
     "output_type": "execute_result"
    }
   ],
   "source": [
    "protein_df.isna().sum()"
   ]
  },
  {
   "cell_type": "code",
   "execution_count": 154,
   "metadata": {},
   "outputs": [],
   "source": [
    "protein_df = protein_df.dropna()"
   ]
  },
  {
   "cell_type": "markdown",
   "metadata": {},
   "source": [
    "#### Match Features to Protein and Create Feature Matrix\n",
    "\n",
    "We decide to use the `Level` column as our features for each protein. We will keep only the 'Not detected', 'Low', 'Medium', 'High' in this column and perform one-hot encoding on them."
   ]
  },
  {
   "cell_type": "code",
   "execution_count": 155,
   "metadata": {},
   "outputs": [
    {
     "data": {
      "text/plain": [
       "array(['Not detected', 'Medium', 'High', 'Low', 'Ascending', 'Descending',\n",
       "       'Not representative'], dtype=object)"
      ]
     },
     "execution_count": 155,
     "metadata": {},
     "output_type": "execute_result"
    }
   ],
   "source": [
    "protein_df.Level.unique()"
   ]
  },
  {
   "cell_type": "code",
   "execution_count": 158,
   "metadata": {},
   "outputs": [
    {
     "name": "stdout",
     "output_type": "stream",
     "text": [
      "Number of rows dropped: 282\n"
     ]
    }
   ],
   "source": [
    "keep_levels_dict = {'Not detected':0, 'Low':1, 'Medium':2, 'High':3}\n",
    "print(\"Number of rows dropped: \" + str(protein_df[~protein_df['Level'].isin(keep_levels_dict.keys())].shape[0]))\n",
    "protein_df = protein_df[protein_df['Level'].isin(keep_levels_dict.keys())]"
   ]
  },
  {
   "cell_type": "code",
   "execution_count": 159,
   "metadata": {},
   "outputs": [
    {
     "data": {
      "text/html": [
       "<div>\n",
       "<style scoped>\n",
       "    .dataframe tbody tr th:only-of-type {\n",
       "        vertical-align: middle;\n",
       "    }\n",
       "\n",
       "    .dataframe tbody tr th {\n",
       "        vertical-align: top;\n",
       "    }\n",
       "\n",
       "    .dataframe thead th {\n",
       "        text-align: right;\n",
       "    }\n",
       "</style>\n",
       "<table border=\"1\" class=\"dataframe\">\n",
       "  <thead>\n",
       "    <tr style=\"text-align: right;\">\n",
       "      <th></th>\n",
       "      <th>Gene</th>\n",
       "      <th>Gene name</th>\n",
       "      <th>Tissue</th>\n",
       "      <th>IHC tissue name</th>\n",
       "      <th>Cell type</th>\n",
       "      <th>Level</th>\n",
       "      <th>Reliability</th>\n",
       "      <th>Level_OHE</th>\n",
       "    </tr>\n",
       "  </thead>\n",
       "  <tbody>\n",
       "    <tr>\n",
       "      <th>0</th>\n",
       "      <td>ENSG00000000003</td>\n",
       "      <td>TSPAN6</td>\n",
       "      <td>Adipose tissue</td>\n",
       "      <td>Adipose tissue</td>\n",
       "      <td>adipocytes</td>\n",
       "      <td>Not detected</td>\n",
       "      <td>Approved</td>\n",
       "      <td>0</td>\n",
       "    </tr>\n",
       "    <tr>\n",
       "      <th>1</th>\n",
       "      <td>ENSG00000000003</td>\n",
       "      <td>TSPAN6</td>\n",
       "      <td>Adrenal gland</td>\n",
       "      <td>Adrenal gland</td>\n",
       "      <td>glandular cells</td>\n",
       "      <td>Not detected</td>\n",
       "      <td>Approved</td>\n",
       "      <td>0</td>\n",
       "    </tr>\n",
       "    <tr>\n",
       "      <th>2</th>\n",
       "      <td>ENSG00000000003</td>\n",
       "      <td>TSPAN6</td>\n",
       "      <td>Appendix</td>\n",
       "      <td>Appendix</td>\n",
       "      <td>glandular cells</td>\n",
       "      <td>Medium</td>\n",
       "      <td>Approved</td>\n",
       "      <td>2</td>\n",
       "    </tr>\n",
       "    <tr>\n",
       "      <th>3</th>\n",
       "      <td>ENSG00000000003</td>\n",
       "      <td>TSPAN6</td>\n",
       "      <td>Appendix</td>\n",
       "      <td>Appendix</td>\n",
       "      <td>lymphoid tissue</td>\n",
       "      <td>Not detected</td>\n",
       "      <td>Approved</td>\n",
       "      <td>0</td>\n",
       "    </tr>\n",
       "    <tr>\n",
       "      <th>4</th>\n",
       "      <td>ENSG00000000003</td>\n",
       "      <td>TSPAN6</td>\n",
       "      <td>Bone marrow</td>\n",
       "      <td>Bone marrow</td>\n",
       "      <td>hematopoietic cells</td>\n",
       "      <td>Not detected</td>\n",
       "      <td>Approved</td>\n",
       "      <td>0</td>\n",
       "    </tr>\n",
       "  </tbody>\n",
       "</table>\n",
       "</div>"
      ],
      "text/plain": [
       "              Gene Gene name          Tissue IHC tissue name  \\\n",
       "0  ENSG00000000003    TSPAN6  Adipose tissue  Adipose tissue   \n",
       "1  ENSG00000000003    TSPAN6   Adrenal gland   Adrenal gland   \n",
       "2  ENSG00000000003    TSPAN6        Appendix        Appendix   \n",
       "3  ENSG00000000003    TSPAN6        Appendix        Appendix   \n",
       "4  ENSG00000000003    TSPAN6     Bone marrow     Bone marrow   \n",
       "\n",
       "             Cell type         Level Reliability  Level_OHE  \n",
       "0           adipocytes  Not detected    Approved          0  \n",
       "1      glandular cells  Not detected    Approved          0  \n",
       "2      glandular cells        Medium    Approved          2  \n",
       "3      lymphoid tissue  Not detected    Approved          0  \n",
       "4  hematopoietic cells  Not detected    Approved          0  "
      ]
     },
     "execution_count": 159,
     "metadata": {},
     "output_type": "execute_result"
    }
   ],
   "source": [
    "protein_df['Level_OHE'] = protein_df['Level'].map(keep_levels_dict)\n",
    "protein_df.head()"
   ]
  },
  {
   "cell_type": "code",
   "execution_count": 160,
   "metadata": {},
   "outputs": [
    {
     "data": {
      "text/plain": [
       "array([0, 2, 3, 1])"
      ]
     },
     "execution_count": 160,
     "metadata": {},
     "output_type": "execute_result"
    }
   ],
   "source": [
    "protein_df['Level_OHE'].unique()"
   ]
  },
  {
   "cell_type": "code",
   "execution_count": 163,
   "metadata": {},
   "outputs": [],
   "source": [
    "# gt = protein_df.groupby('Tissue')['Gene'].nunique()\n",
    "# gt"
   ]
  },
  {
   "cell_type": "markdown",
   "metadata": {},
   "source": [
    "We'd like to have a separate measurement of level for protein expression in each cell type within each tissue."
   ]
  },
  {
   "cell_type": "code",
   "execution_count": 164,
   "metadata": {},
   "outputs": [
    {
     "data": {
      "text/plain": [
       "229744"
      ]
     },
     "execution_count": 164,
     "metadata": {},
     "output_type": "execute_result"
    }
   ],
   "source": [
    "(protein_df['IHC tissue name'] != protein_df['Tissue']).sum()"
   ]
  },
  {
   "cell_type": "code",
   "execution_count": 165,
   "metadata": {},
   "outputs": [
    {
     "data": {
      "image/png": "[encoded data removed]",
      "text/plain": [
       "<Figure size 640x480 with 1 Axes>"
      ]
     },
     "metadata": {},
     "output_type": "display_data"
    }
   ],
   "source": [
    "combination_info = protein_df.groupby(['IHC tissue name','Cell type'])['Gene'].count().reset_index()\n",
    "plt.hist(combination_info['Gene'], bins=30)\n",
    "plt.title(\"Distribution of Number of Genes in Each Tissue/Celltype Combination\")\n",
    "plt.xlabel(\"Number of Genes\")\n",
    "plt.ylabel(\"Count\")\n",
    "plt.show()"
   ]
  },
  {
   "cell_type": "code",
   "execution_count": 186,
   "metadata": {},
   "outputs": [],
   "source": [
    "# threshold???\n",
    "combined_keep = combination_info[combination_info['Gene']>13000]\n",
    "combinations_keep = combined_keep['IHC tissue name'] + ' / ' + combined_keep['Cell type']"
   ]
  },
  {
   "cell_type": "code",
   "execution_count": 187,
   "metadata": {},
   "outputs": [
    {
     "data": {
      "text/plain": [
       "0                      Adipose tissue / adipocytes\n",
       "4                  Adrenal gland / glandular cells\n",
       "14               Bone marrow / hematopoietic cells\n",
       "15                             Breast / adipocytes\n",
       "16                        Breast / glandular cells\n",
       "17                    Breast / myoepithelial cells\n",
       "26                           Caudate / glial cells\n",
       "27                        Caudate / neuronal cells\n",
       "56             Cerebral cortex / endothelial cells\n",
       "57                   Cerebral cortex / glial cells\n",
       "58                Cerebral cortex / neuronal cells\n",
       "60                      Cerebral cortex / neuropil\n",
       "66                       Colon / endothelial cells\n",
       "93     Endometrium 1 / cells in endometrial stroma\n",
       "94                 Endometrium 1 / glandular cells\n",
       "95     Endometrium 2 / cells in endometrial stroma\n",
       "96                 Endometrium 2 / glandular cells\n",
       "97                    Epididymis / glandular cells\n",
       "98           Esophagus / squamous epithelial cells\n",
       "109                  Gallbladder / glandular cells\n",
       "114                  Heart muscle / cardiomyocytes\n",
       "115                      Hippocampus / glial cells\n",
       "116                   Hippocampus / neuronal cells\n",
       "124                    Kidney / cells in glomeruli\n",
       "132                         Liver / cholangiocytes\n",
       "133                            Liver / hepatocytes\n",
       "138                             Lung / macrophages\n",
       "140         Lymph node / non-germinal center cells\n",
       "148        Oral mucosa / squamous epithelial cells\n",
       "154                   Ovary / ovarian stroma cells\n",
       "156            Pancreas / exocrine glandular cells\n",
       "168                     Prostate / glandular cells\n",
       "186               Salivary gland / glandular cells\n",
       "187              Seminal vesicle / glandular cells\n",
       "188                     Skeletal muscle / myocytes\n",
       "207                           Skin 1 / melanocytes\n",
       "232            Smooth muscle / smooth muscle cells\n",
       "237                    Soft tissue 2 / fibroblasts\n",
       "240                     Spleen / cells in red pulp\n",
       "241                   Spleen / cells in white pulp\n",
       "242                    Stomach 1 / glandular cells\n",
       "243                    Stomach 2 / glandular cells\n",
       "248                          Testis / Leydig cells\n",
       "259                Thyroid gland / glandular cells\n",
       "260                 Tonsil / germinal center cells\n",
       "261             Tonsil / non-germinal center cells\n",
       "262             Tonsil / squamous epithelial cells\n",
       "263             Urinary bladder / urothelial cells\n",
       "264             Vagina / squamous epithelial cells\n",
       "dtype: object"
      ]
     },
     "execution_count": 187,
     "metadata": {},
     "output_type": "execute_result"
    }
   ],
   "source": [
    "combinations_keep"
   ]
  },
  {
   "cell_type": "code",
   "execution_count": 188,
   "metadata": {},
   "outputs": [
    {
     "name": "stdout",
     "output_type": "stream",
     "text": [
      "Number of unique tissue/cell type combinations: 265\n"
     ]
    }
   ],
   "source": [
    "protein_df['Tissue_CellType'] = protein_df['IHC tissue name'] + ' / ' + protein_df['Cell type']\n",
    "\n",
    "unique_combinations = protein_df['Tissue_CellType'].nunique()\n",
    "print(f\"Number of unique tissue/cell type combinations: {unique_combinations}\")"
   ]
  },
  {
   "cell_type": "code",
   "execution_count": 189,
   "metadata": {},
   "outputs": [
    {
     "data": {
      "text/plain": [
       "0.5484361283202488"
      ]
     },
     "execution_count": 189,
     "metadata": {},
     "output_type": "execute_result"
    }
   ],
   "source": [
    "protein_df_keep_comb = protein_df[protein_df['Tissue_CellType'].isin(combinations_keep.values)]\n",
    "protein_df_keep_comb.shape[0]/protein_df.shape[0]"
   ]
  },
  {
   "cell_type": "code",
   "execution_count": 190,
   "metadata": {},
   "outputs": [],
   "source": [
    "# Pivot the data: Genes as rows, Tissue/CellType as columns, and Level as values\n",
    "ohe_df = protein_df_keep_comb.pivot_table(\n",
    "    index='Gene',\n",
    "    columns='Tissue_CellType',\n",
    "    values='Level_OHE',\n",
    "    aggfunc='max'  \n",
    ")\n",
    "\n",
    "ohe_df.reset_index(inplace=True)"
   ]
  },
  {
   "cell_type": "code",
   "execution_count": 191,
   "metadata": {},
   "outputs": [
    {
     "data": {
      "text/plain": [
       "4013"
      ]
     },
     "execution_count": 191,
     "metadata": {},
     "output_type": "execute_result"
    }
   ],
   "source": [
    "ohe_df.isna().sum().sum()"
   ]
  },
  {
   "cell_type": "code",
   "execution_count": 192,
   "metadata": {},
   "outputs": [
    {
     "data": {
      "text/plain": [
       "(13469, 50)"
      ]
     },
     "execution_count": 192,
     "metadata": {},
     "output_type": "execute_result"
    }
   ],
   "source": [
    "ohe_df.shape"
   ]
  },
  {
   "cell_type": "code",
   "execution_count": 203,
   "metadata": {},
   "outputs": [
    {
     "data": {
      "text/html": [
       "<div>\n",
       "<style scoped>\n",
       "    .dataframe tbody tr th:only-of-type {\n",
       "        vertical-align: middle;\n",
       "    }\n",
       "\n",
       "    .dataframe tbody tr th {\n",
       "        vertical-align: top;\n",
       "    }\n",
       "\n",
       "    .dataframe thead th {\n",
       "        text-align: right;\n",
       "    }\n",
       "</style>\n",
       "<table border=\"1\" class=\"dataframe\">\n",
       "  <thead>\n",
       "    <tr style=\"text-align: right;\">\n",
       "      <th>Tissue_CellType</th>\n",
       "      <th>Gene</th>\n",
       "      <th>Adipose tissue / adipocytes</th>\n",
       "      <th>Adrenal gland / glandular cells</th>\n",
       "      <th>Bone marrow / hematopoietic cells</th>\n",
       "      <th>Breast / adipocytes</th>\n",
       "      <th>Breast / glandular cells</th>\n",
       "      <th>Breast / myoepithelial cells</th>\n",
       "      <th>Caudate / glial cells</th>\n",
       "      <th>Caudate / neuronal cells</th>\n",
       "      <th>Cerebral cortex / endothelial cells</th>\n",
       "      <th>...</th>\n",
       "      <th>Spleen / cells in white pulp</th>\n",
       "      <th>Stomach 1 / glandular cells</th>\n",
       "      <th>Stomach 2 / glandular cells</th>\n",
       "      <th>Testis / Leydig cells</th>\n",
       "      <th>Thyroid gland / glandular cells</th>\n",
       "      <th>Tonsil / germinal center cells</th>\n",
       "      <th>Tonsil / non-germinal center cells</th>\n",
       "      <th>Tonsil / squamous epithelial cells</th>\n",
       "      <th>Urinary bladder / urothelial cells</th>\n",
       "      <th>Vagina / squamous epithelial cells</th>\n",
       "    </tr>\n",
       "  </thead>\n",
       "  <tbody>\n",
       "    <tr>\n",
       "      <th>0</th>\n",
       "      <td>ENSG00000000003</td>\n",
       "      <td>0.0</td>\n",
       "      <td>0.0</td>\n",
       "      <td>0.0</td>\n",
       "      <td>0.0</td>\n",
       "      <td>3.0</td>\n",
       "      <td>0.0</td>\n",
       "      <td>0.0</td>\n",
       "      <td>0.0</td>\n",
       "      <td>0.0</td>\n",
       "      <td>...</td>\n",
       "      <td>0.0</td>\n",
       "      <td>2.0</td>\n",
       "      <td>2.0</td>\n",
       "      <td>1.0</td>\n",
       "      <td>2.0</td>\n",
       "      <td>0.0</td>\n",
       "      <td>0.0</td>\n",
       "      <td>3.0</td>\n",
       "      <td>3.0</td>\n",
       "      <td>3.0</td>\n",
       "    </tr>\n",
       "    <tr>\n",
       "      <th>1</th>\n",
       "      <td>ENSG00000000419</td>\n",
       "      <td>2.0</td>\n",
       "      <td>3.0</td>\n",
       "      <td>2.0</td>\n",
       "      <td>2.0</td>\n",
       "      <td>2.0</td>\n",
       "      <td>2.0</td>\n",
       "      <td>1.0</td>\n",
       "      <td>2.0</td>\n",
       "      <td>2.0</td>\n",
       "      <td>...</td>\n",
       "      <td>2.0</td>\n",
       "      <td>3.0</td>\n",
       "      <td>3.0</td>\n",
       "      <td>3.0</td>\n",
       "      <td>2.0</td>\n",
       "      <td>1.0</td>\n",
       "      <td>2.0</td>\n",
       "      <td>2.0</td>\n",
       "      <td>2.0</td>\n",
       "      <td>2.0</td>\n",
       "    </tr>\n",
       "    <tr>\n",
       "      <th>3</th>\n",
       "      <td>ENSG00000000460</td>\n",
       "      <td>2.0</td>\n",
       "      <td>2.0</td>\n",
       "      <td>1.0</td>\n",
       "      <td>2.0</td>\n",
       "      <td>2.0</td>\n",
       "      <td>2.0</td>\n",
       "      <td>1.0</td>\n",
       "      <td>1.0</td>\n",
       "      <td>2.0</td>\n",
       "      <td>...</td>\n",
       "      <td>0.0</td>\n",
       "      <td>1.0</td>\n",
       "      <td>1.0</td>\n",
       "      <td>2.0</td>\n",
       "      <td>2.0</td>\n",
       "      <td>1.0</td>\n",
       "      <td>1.0</td>\n",
       "      <td>2.0</td>\n",
       "      <td>2.0</td>\n",
       "      <td>2.0</td>\n",
       "    </tr>\n",
       "    <tr>\n",
       "      <th>5</th>\n",
       "      <td>ENSG00000000971</td>\n",
       "      <td>0.0</td>\n",
       "      <td>0.0</td>\n",
       "      <td>0.0</td>\n",
       "      <td>0.0</td>\n",
       "      <td>0.0</td>\n",
       "      <td>0.0</td>\n",
       "      <td>0.0</td>\n",
       "      <td>0.0</td>\n",
       "      <td>0.0</td>\n",
       "      <td>...</td>\n",
       "      <td>0.0</td>\n",
       "      <td>0.0</td>\n",
       "      <td>0.0</td>\n",
       "      <td>1.0</td>\n",
       "      <td>0.0</td>\n",
       "      <td>0.0</td>\n",
       "      <td>0.0</td>\n",
       "      <td>0.0</td>\n",
       "      <td>0.0</td>\n",
       "      <td>0.0</td>\n",
       "    </tr>\n",
       "    <tr>\n",
       "      <th>6</th>\n",
       "      <td>ENSG00000001036</td>\n",
       "      <td>0.0</td>\n",
       "      <td>0.0</td>\n",
       "      <td>0.0</td>\n",
       "      <td>0.0</td>\n",
       "      <td>0.0</td>\n",
       "      <td>0.0</td>\n",
       "      <td>0.0</td>\n",
       "      <td>0.0</td>\n",
       "      <td>0.0</td>\n",
       "      <td>...</td>\n",
       "      <td>0.0</td>\n",
       "      <td>0.0</td>\n",
       "      <td>0.0</td>\n",
       "      <td>2.0</td>\n",
       "      <td>0.0</td>\n",
       "      <td>0.0</td>\n",
       "      <td>0.0</td>\n",
       "      <td>0.0</td>\n",
       "      <td>0.0</td>\n",
       "      <td>0.0</td>\n",
       "    </tr>\n",
       "  </tbody>\n",
       "</table>\n",
       "<p>5 rows × 50 columns</p>\n",
       "</div>"
      ],
      "text/plain": [
       "Tissue_CellType             Gene  Adipose tissue / adipocytes  \\\n",
       "0                ENSG00000000003                          0.0   \n",
       "1                ENSG00000000419                          2.0   \n",
       "3                ENSG00000000460                          2.0   \n",
       "5                ENSG00000000971                          0.0   \n",
       "6                ENSG00000001036                          0.0   \n",
       "\n",
       "Tissue_CellType  Adrenal gland / glandular cells  \\\n",
       "0                                            0.0   \n",
       "1                                            3.0   \n",
       "3                                            2.0   \n",
       "5                                            0.0   \n",
       "6                                            0.0   \n",
       "\n",
       "Tissue_CellType  Bone marrow / hematopoietic cells  Breast / adipocytes  \\\n",
       "0                                              0.0                  0.0   \n",
       "1                                              2.0                  2.0   \n",
       "3                                              1.0                  2.0   \n",
       "5                                              0.0                  0.0   \n",
       "6                                              0.0                  0.0   \n",
       "\n",
       "Tissue_CellType  Breast / glandular cells  Breast / myoepithelial cells  \\\n",
       "0                                     3.0                           0.0   \n",
       "1                                     2.0                           2.0   \n",
       "3                                     2.0                           2.0   \n",
       "5                                     0.0                           0.0   \n",
       "6                                     0.0                           0.0   \n",
       "\n",
       "Tissue_CellType  Caudate / glial cells  Caudate / neuronal cells  \\\n",
       "0                                  0.0                       0.0   \n",
       "1                                  1.0                       2.0   \n",
       "3                                  1.0                       1.0   \n",
       "5                                  0.0                       0.0   \n",
       "6                                  0.0                       0.0   \n",
       "\n",
       "Tissue_CellType  Cerebral cortex / endothelial cells  ...  \\\n",
       "0                                                0.0  ...   \n",
       "1                                                2.0  ...   \n",
       "3                                                2.0  ...   \n",
       "5                                                0.0  ...   \n",
       "6                                                0.0  ...   \n",
       "\n",
       "Tissue_CellType  Spleen / cells in white pulp  Stomach 1 / glandular cells  \\\n",
       "0                                         0.0                          2.0   \n",
       "1                                         2.0                          3.0   \n",
       "3                                         0.0                          1.0   \n",
       "5                                         0.0                          0.0   \n",
       "6                                         0.0                          0.0   \n",
       "\n",
       "Tissue_CellType  Stomach 2 / glandular cells  Testis / Leydig cells  \\\n",
       "0                                        2.0                    1.0   \n",
       "1                                        3.0                    3.0   \n",
       "3                                        1.0                    2.0   \n",
       "5                                        0.0                    1.0   \n",
       "6                                        0.0                    2.0   \n",
       "\n",
       "Tissue_CellType  Thyroid gland / glandular cells  \\\n",
       "0                                            2.0   \n",
       "1                                            2.0   \n",
       "3                                            2.0   \n",
       "5                                            0.0   \n",
       "6                                            0.0   \n",
       "\n",
       "Tissue_CellType  Tonsil / germinal center cells  \\\n",
       "0                                           0.0   \n",
       "1                                           1.0   \n",
       "3                                           1.0   \n",
       "5                                           0.0   \n",
       "6                                           0.0   \n",
       "\n",
       "Tissue_CellType  Tonsil / non-germinal center cells  \\\n",
       "0                                               0.0   \n",
       "1                                               2.0   \n",
       "3                                               1.0   \n",
       "5                                               0.0   \n",
       "6                                               0.0   \n",
       "\n",
       "Tissue_CellType  Tonsil / squamous epithelial cells  \\\n",
       "0                                               3.0   \n",
       "1                                               2.0   \n",
       "3                                               2.0   \n",
       "5                                               0.0   \n",
       "6                                               0.0   \n",
       "\n",
       "Tissue_CellType  Urinary bladder / urothelial cells  \\\n",
       "0                                               3.0   \n",
       "1                                               2.0   \n",
       "3                                               2.0   \n",
       "5                                               0.0   \n",
       "6                                               0.0   \n",
       "\n",
       "Tissue_CellType  Vagina / squamous epithelial cells  \n",
       "0                                               3.0  \n",
       "1                                               2.0  \n",
       "3                                               2.0  \n",
       "5                                               0.0  \n",
       "6                                               0.0  \n",
       "\n",
       "[5 rows x 50 columns]"
      ]
     },
     "execution_count": 203,
     "metadata": {},
     "output_type": "execute_result"
    }
   ],
   "source": [
    "ohe_df_no_missing = ohe_df.dropna()\n",
    "ohe_df_no_missing.head()"
   ]
  },
  {
   "cell_type": "code",
   "execution_count": 245,
   "metadata": {},
   "outputs": [
    {
     "name": "stdout",
     "output_type": "stream",
     "text": [
      "Number of unmatched proteins: 0\n"
     ]
    }
   ],
   "source": [
    "match_feature_mat_protein = ohe_df_no_missing.merge(protein_gene_conversion, on='Gene', how='right')\n",
    "print(f\"Number of unmatched proteins: {ohe_df_no_missing['Adipose tissue / adipocytes'].isna().sum()}\")\n",
    "match_feature_mat_protein = match_feature_mat_protein.dropna().drop(columns = ['Gene'])"
   ]
  },
  {
   "cell_type": "code",
   "execution_count": 247,
   "metadata": {},
   "outputs": [
    {
     "name": "stdout",
     "output_type": "stream",
     "text": [
      "Feature matrix created for 10432 proteins.\n"
     ]
    }
   ],
   "source": [
    "# adjust column order\n",
    "match_feature_mat_protein = match_feature_mat_protein[['Protein']+list(match_feature_mat_protein.columns[:-1])]\n",
    "print(f\"Feature matrix created for {match_feature_mat_protein.shape[0]} proteins.\")"
   ]
  },
  {
   "cell_type": "code",
   "execution_count": 256,
   "metadata": {},
   "outputs": [],
   "source": [
    "features_only_protein = match_feature_mat_protein.iloc[:,1:].values\n",
    "\n",
    "principal_components_protein, pca_protein = get_pc(features_only_protein,10)"
   ]
  },
  {
   "cell_type": "code",
   "execution_count": 257,
   "metadata": {},
   "outputs": [
    {
     "name": "stdout",
     "output_type": "stream",
     "text": [
      "Explained variance ratio: [0.5345235  0.05026245 0.03675229 0.03263917 0.0230103  0.02149211\n",
      " 0.01801624 0.01665362 0.01586334 0.01376434]\n",
      "Cumulative explained variance: [0.5345235  0.58478595 0.62153824 0.65417741 0.67718771 0.69867982\n",
      " 0.71669606 0.73334968 0.74921302 0.76297736]\n"
     ]
    }
   ],
   "source": [
    "print(\"Explained variance ratio:\", pca_protein.explained_variance_ratio_)\n",
    "print(\"Cumulative explained variance:\", pca_protein.explained_variance_ratio_.cumsum())"
   ]
  },
  {
   "cell_type": "code",
   "execution_count": 258,
   "metadata": {},
   "outputs": [],
   "source": [
    "protein_keep_feature = match_feature_mat_protein['Protein']\n",
    "pc_df_protein = pd.DataFrame(principal_components_protein)\n",
    "pc_df_protein.index = protein_keep_feature"
   ]
  },
  {
   "cell_type": "code",
   "execution_count": 260,
   "metadata": {},
   "outputs": [],
   "source": [
    "pc_df_protein.to_csv(\"Data/PPI_protein_expression_10PCs.csv\")\n",
    "match_feature_mat_protein.to_csv(\"Data/PPI_protein_expression_full.csv\", index=False)"
   ]
  },
  {
   "cell_type": "code",
   "execution_count": null,
   "metadata": {},
   "outputs": [],
   "source": []
  }
 ],
 "metadata": {
  "kernelspec": {
   "display_name": "dsc80",
   "language": "python",
   "name": "python3"
  },
  "language_info": {
   "codemirror_mode": {
    "name": "ipython",
    "version": 3
   },
   "file_extension": ".py",
   "mimetype": "text/x-python",
   "name": "python",
   "nbconvert_exporter": "python",
   "pygments_lexer": "ipython3",
   "version": "3.8.19"
  }
 },
 "nbformat": 4,
 "nbformat_minor": 2
}
